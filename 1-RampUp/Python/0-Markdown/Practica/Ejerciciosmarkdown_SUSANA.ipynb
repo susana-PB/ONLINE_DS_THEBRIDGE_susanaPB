{
 "cells": [
  {
   "attachments": {},
   "cell_type": "markdown",
   "metadata": {},
   "source": [
    "![imagen](./img/ejercicios.png)\n",
    "# Markdown\n",
    "\n",
    "## Ejercicio 1\n",
    "Vamos a aplicar los conocimientos adquiridos en este notebook, intentando reproducir la siguiente imagen en una celda markdown con su sintaxis. En el link va la página: https://www.kaggle.com/\n",
    "\n",
    "**TIP**: en [este enlace](https://www.markdownguide.org/basic-syntax/) tienes más ejemplos, por si te atascas con algo :)\n"
   ]
  },
  {
   "cell_type": "markdown",
   "metadata": {},
   "source": [
    "![imagen](./img/ejercicio_markdown.png)"
   ]
  },
  {
   "cell_type": "markdown",
   "metadata": {},
   "source": [
    "# Lo más importante\n",
    "\n",
    "* Matemáticas\n",
    "* Python\n",
    "* SQL\n",
    "\n",
    "![python.png](./img/python.png)\n",
    "\n",
    "Otro tema importante es el *Business Intelligence*\n",
    "\n",
    "Si tienes dudass, puedes escribirme a: miguel.nievas@thegridgeschool.es   \n",
    "En esta página se aprende mucho de machine learning: [**página con ML**](http://www.google.es)"
   ]
  },
  {
   "cell_type": "markdown",
   "metadata": {},
   "source": [
    "## Aptitudes de Data Science"
   ]
  },
  {
   "cell_type": "markdown",
   "metadata": {},
   "source": [
    "![python.png](./img/python.png)"
   ]
  },
  {
   "attachments": {},
   "cell_type": "markdown",
   "metadata": {},
   "source": [
    "## Ejercicio 2\n",
    "Para este ejercicio vas a crear dos nuevos elementos que no hemos visto en la teoría, tendrás que buscar en google cómo hacer: una tabla y una fórmula. Busca en la web la sintaxis y replica ambos elementos."
   ]
  },
  {
   "cell_type": "markdown",
   "metadata": {},
   "source": [
    "<p align=\"center\">\n",
    "  <img src=\"img/md_ejercicio2.png\" />\n",
    "</p>"
   ]
  },
  {
   "cell_type": "markdown",
   "metadata": {},
   "source": [
    "<div align=\"center\">\n",
    "\n",
    "Ramp up | Data Analysis | Machine Learning | Data & business\n",
    "|-------| ------------- | ---------------- | --------------- |\n",
    "|Python | EDA           | Supervised       | Productivización|\n",
    "|Estadística | R           | Non supervised       | Storytelling|\n",
    "|SQL | Feat. Eng           | Deep learning       | API|\n",
    "\n",
    "$\\sqrt{3x-1} + (1+x)^2$\n",
    "\n"
   ]
  },
  {
   "cell_type": "markdown",
   "metadata": {},
   "source": []
  },
  {
   "cell_type": "markdown",
   "metadata": {},
   "source": []
  }
 ],
 "metadata": {
  "kernelspec": {
   "display_name": "Python 3.7.4 64-bit",
   "language": "python",
   "name": "python3"
  },
  "language_info": {
   "codemirror_mode": {
    "name": "ipython",
    "version": 3
   },
   "file_extension": ".py",
   "mimetype": "text/x-python",
   "name": "python",
   "nbconvert_exporter": "python",
   "pygments_lexer": "ipython3",
   "version": "3.7.4"
  },
  "vscode": {
   "interpreter": {
    "hash": "90139cb9a825bf3d63f6f6704e828dbd1ff7edbd4d0c6e906a71235d6efc74af"
   }
  }
 },
 "nbformat": 4,
 "nbformat_minor": 4
}
