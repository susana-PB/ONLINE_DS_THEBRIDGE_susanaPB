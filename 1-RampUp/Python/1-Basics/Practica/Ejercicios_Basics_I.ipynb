{
 "cells": [
  {
   "cell_type": "markdown",
   "metadata": {},
   "source": [
    "![imagen](./img/ejercicios.png)"
   ]
  },
  {
   "cell_type": "markdown",
   "metadata": {},
   "source": [
    "# Ejercicios Python Basics I"
   ]
  },
  {
   "cell_type": "markdown",
   "metadata": {},
   "source": [
    "## Ejercicio 0\n",
    "Imprime por pantalla esta cita con el siguiente formato\n",
    "\n",
    "![imagen](./img/frase_Einstein.PNG)"
   ]
  },
  {
   "cell_type": "code",
   "execution_count": 6,
   "metadata": {},
   "outputs": [
    {
     "name": "stdout",
     "output_type": "stream",
     "text": [
      "¿Por qué esta magnífica tecnología científica,\n",
      "\tque ahorra trabajo y nos hace la vida más fácil,\n",
      "\t\tnos aporta tan poca felicidad?\n",
      "\t\t\tLa respuesta está, simplemente: porque aún no hemos aprendido a usarla con tino.\n",
      "\"Albert Einstein\"\n"
     ]
    }
   ],
   "source": [
    "print(\"¿Por qué esta magnífica tecnología científica,\\n\\tque ahorra trabajo y nos hace la vida más fácil,\\n\\t\\tnos aporta tan poca felicidad?\\n\\t\\t\\tLa respuesta está, simplemente: porque aún no hemos aprendido a usarla con tino.\\n\\\"Albert Einstein\\\"\")"
   ]
  },
  {
   "cell_type": "markdown",
   "metadata": {},
   "source": [
    "## Ejercicio 1\n",
    "1. Escribe el nombre de la calle de tu domicilio en una variable\n",
    "2. Escribe el numero de la calle en otra\n",
    "3. Ciudad en una tercera\n",
    "4. Codigo postal en la cuarta variable\n",
    "5. Imprime las 4 variables concatenadas por pantalla\n",
    "6. Crea una quinta variable que concatene todas ellas\n",
    "7. Imprímela por pantalla"
   ]
  },
  {
   "cell_type": "code",
   "execution_count": 10,
   "metadata": {},
   "outputs": [
    {
     "data": {
      "text/plain": [
       "False"
      ]
     },
     "execution_count": 10,
     "metadata": {},
     "output_type": "execute_result"
    }
   ],
   "source": [
    "# \"15\" > \"5\""
   ]
  },
  {
   "cell_type": "code",
   "execution_count": 15,
   "metadata": {},
   "outputs": [],
   "source": [
    "calle = \"Pase Recoletos\"\n",
    "numero = 15\n",
    "ciudad = \"Madrid\"\n",
    "cp = 28004\n",
    "eb = \" \""
   ]
  },
  {
   "cell_type": "code",
   "execution_count": 16,
   "metadata": {},
   "outputs": [
    {
     "name": "stdout",
     "output_type": "stream",
     "text": [
      "Pase Recoletos 15 Madrid 28004\n",
      "Pase Recoletos 15 Madrid 28004\n"
     ]
    }
   ],
   "source": [
    "print(calle, numero, ciudad, cp)\n",
    "print(calle + eb + str(numero) + eb + ciudad + eb + str(cp))"
   ]
  },
  {
   "cell_type": "code",
   "execution_count": 17,
   "metadata": {},
   "outputs": [
    {
     "name": "stdout",
     "output_type": "stream",
     "text": [
      "Pase Recoletos 15 Madrid 28004\n"
     ]
    }
   ],
   "source": [
    "direccion = calle + eb + str(numero) + eb + ciudad + eb + str(cp)\n",
    "print(direccion)"
   ]
  },
  {
   "cell_type": "markdown",
   "metadata": {},
   "source": [
    "## Ejercicio 2\n",
    "Repite el ejercicio 1, pero pidiendo estos datos al usuario mediante un input(), imprimiendo a continuación la dirección completa"
   ]
  },
  {
   "cell_type": "code",
   "execution_count": 18,
   "metadata": {},
   "outputs": [],
   "source": [
    "calle = input(\"Introduce tu calle\")\n",
    "numero = input(\"Introduce tu número\")\n",
    "ciudad = input(\"Introduce tu ciudad\")\n",
    "cp = input(\"Introduce tu código postal\")\n",
    "eb = \" \""
   ]
  },
  {
   "cell_type": "code",
   "execution_count": 21,
   "metadata": {},
   "outputs": [
    {
     "name": "stdout",
     "output_type": "stream",
     "text": [
      "Castellana 40 Madrid 28005\n"
     ]
    }
   ],
   "source": [
    "direccion = calle + eb + numero + eb + ciudad + eb + cp\n",
    "print(direccion)"
   ]
  },
  {
   "cell_type": "markdown",
   "metadata": {},
   "source": [
    "## Ejercicio 3\n",
    "¿Qué variables están mal escritas y por qué? Realiza primero tu hipótesis y luego ejecuta las variables para comprobarlo. En ese orden :)\n",
    "\n",
    "\n",
    "1. mi_variable = \"Economía\"\n",
    "2. otra_var = \"Ejercicio\n",
    "3. True = \"Ejercicio\"\n",
    "4. mi variab1e = \"Alpha\"\n",
    "5. import = 40\n",
    "6. 81mi_variable = \"Agua\"\n",
    "7. mi_variable10 = 6"
   ]
  },
  {
   "cell_type": "markdown",
   "metadata": {},
   "source": [
    "1. Correcto\n",
    "2. Incorrecto, falta cerrar comillas\n",
    "3. Incorrecto, es una palabra reservada\n",
    "4. Incorrecto, espacio en blanco en nombre de variable\n",
    "5. Incorrecto, es una palabra reservada\n",
    "6. Incorrecto, comienza nombre variable con número\n",
    "7. Correcto"
   ]
  },
  {
   "cell_type": "code",
   "execution_count": 22,
   "metadata": {},
   "outputs": [],
   "source": [
    "mi_variable = \"Economía\""
   ]
  },
  {
   "cell_type": "code",
   "execution_count": 23,
   "metadata": {},
   "outputs": [
    {
     "ename": "SyntaxError",
     "evalue": "unterminated string literal (detected at line 1) (2439014879.py, line 1)",
     "output_type": "error",
     "traceback": [
      "\u001b[1;36m  Cell \u001b[1;32mIn[23], line 1\u001b[1;36m\u001b[0m\n\u001b[1;33m    otra_var = \"Ejercicio\u001b[0m\n\u001b[1;37m               ^\u001b[0m\n\u001b[1;31mSyntaxError\u001b[0m\u001b[1;31m:\u001b[0m unterminated string literal (detected at line 1)\n"
     ]
    }
   ],
   "source": [
    "otra_var = \"Ejercicio"
   ]
  },
  {
   "cell_type": "code",
   "execution_count": 1,
   "metadata": {},
   "outputs": [
    {
     "ename": "SyntaxError",
     "evalue": "cannot assign to True (2807537446.py, line 1)",
     "output_type": "error",
     "traceback": [
      "\u001b[1;36m  Cell \u001b[1;32mIn[1], line 1\u001b[1;36m\u001b[0m\n\u001b[1;33m    True = \"Ejercicio\"\u001b[0m\n\u001b[1;37m    ^\u001b[0m\n\u001b[1;31mSyntaxError\u001b[0m\u001b[1;31m:\u001b[0m cannot assign to True\n"
     ]
    }
   ],
   "source": [
    "True = \"Ejercicio\""
   ]
  },
  {
   "cell_type": "code",
   "execution_count": 25,
   "metadata": {},
   "outputs": [
    {
     "ename": "SyntaxError",
     "evalue": "invalid syntax (568631341.py, line 1)",
     "output_type": "error",
     "traceback": [
      "\u001b[1;36m  Cell \u001b[1;32mIn[25], line 1\u001b[1;36m\u001b[0m\n\u001b[1;33m    mi variab1e = \"Alpha\"\u001b[0m\n\u001b[1;37m       ^\u001b[0m\n\u001b[1;31mSyntaxError\u001b[0m\u001b[1;31m:\u001b[0m invalid syntax\n"
     ]
    }
   ],
   "source": [
    "mi variab1e = \"Alpha\""
   ]
  },
  {
   "cell_type": "code",
   "execution_count": 26,
   "metadata": {},
   "outputs": [
    {
     "ename": "SyntaxError",
     "evalue": "invalid syntax (1456137638.py, line 1)",
     "output_type": "error",
     "traceback": [
      "\u001b[1;36m  Cell \u001b[1;32mIn[26], line 1\u001b[1;36m\u001b[0m\n\u001b[1;33m    import = 40\u001b[0m\n\u001b[1;37m           ^\u001b[0m\n\u001b[1;31mSyntaxError\u001b[0m\u001b[1;31m:\u001b[0m invalid syntax\n"
     ]
    }
   ],
   "source": [
    "import = 40"
   ]
  },
  {
   "cell_type": "code",
   "execution_count": 27,
   "metadata": {},
   "outputs": [
    {
     "ename": "SyntaxError",
     "evalue": "invalid decimal literal (3077410335.py, line 1)",
     "output_type": "error",
     "traceback": [
      "\u001b[1;36m  Cell \u001b[1;32mIn[27], line 1\u001b[1;36m\u001b[0m\n\u001b[1;33m    81mi_variable = \"Agua\"\u001b[0m\n\u001b[1;37m     ^\u001b[0m\n\u001b[1;31mSyntaxError\u001b[0m\u001b[1;31m:\u001b[0m invalid decimal literal\n"
     ]
    }
   ],
   "source": [
    "81mi_variable = \"Agua\""
   ]
  },
  {
   "cell_type": "code",
   "execution_count": 28,
   "metadata": {},
   "outputs": [],
   "source": [
    "mi_variable10 = 6"
   ]
  },
  {
   "cell_type": "markdown",
   "metadata": {},
   "source": [
    "## Ejercicio 4\n",
    "Realiza un conversor de grados Celsius a Fahrenheit. El conversor tiene que recibir el input del usuario y devolver la conversión.\n",
    "\n",
    "La conversión de grados sigue la siguiente fórmula: F = C × (9 / 5) + 32 "
   ]
  },
  {
   "cell_type": "code",
   "execution_count": 38,
   "metadata": {},
   "outputs": [
    {
     "name": "stdout",
     "output_type": "stream",
     "text": [
      "60.26\n"
     ]
    }
   ],
   "source": [
    "# celsius = 15\n",
    "# celsius = float(input(\"Introduzca grados celsius\").replace(\",\",\".\"))\n",
    "entrada = input(\"Introduzca grados celsius\")\n",
    "entrada = entrada.replace(\",\",\".\")\n",
    "celsius = float(entrada)\n",
    "\n",
    "\n",
    "fahrenheit = celsius * 9/5 + 32\n",
    "print(fahrenheit)"
   ]
  },
  {
   "cell_type": "markdown",
   "metadata": {},
   "source": [
    "## Ejercicio 5\n",
    "Comenta  el Ejercicio 4. Pon un comentario multilinea y haz comentarios de cada linea de código"
   ]
  },
  {
   "cell_type": "code",
   "execution_count": null,
   "metadata": {},
   "outputs": [],
   "source": [
    "\"\"\"\n",
    "Calculadora que hace la conversión de grados Celsius a grados Fahrenheit\n",
    "Input:\n",
    "    Celsius\n",
    "Output:\n",
    "    Fahrenheit\n",
    "\"\"\"\n",
    "\n",
    "# Recoge la entrada de teclado del usuario\n",
    "entrada = input(\"Introduzca grados celsius\")\n",
    "\n",
    "# Reemplaza las , por . para poder tratarlo como float\n",
    "entrada = entrada.replace(\",\",\".\")\n",
    "\n",
    "# Transformamos el string en float\n",
    "celsius = float(entrada)\n",
    "\n",
    "# Calcula en base a la fórmula los fahrenheit a partir de los celsius\n",
    "fahrenheit = celsius * 9/5 + 32\n",
    "print(fahrenheit)"
   ]
  },
  {
   "cell_type": "code",
   "execution_count": 39,
   "metadata": {},
   "outputs": [],
   "source": [
    "def calculadora_cf():\n",
    "    \"\"\"\n",
    "    Calculadora que hace la conversión de grados Celsius a grados Fahrenheit\n",
    "    Input:\n",
    "        Celsius\n",
    "    Output:\n",
    "        Fahrenheit\n",
    "    \"\"\"\n",
    "\n",
    "    # Recoge la entrada de teclado del usuario\n",
    "    entrada = input(\"Introduzca grados celsius\")\n",
    "\n",
    "    # Reemplaza las , por . para poder tratarlo como float\n",
    "    entrada = entrada.replace(\",\",\".\")\n",
    "\n",
    "    # Transformamos el string en float\n",
    "    celsius = float(entrada)\n",
    "\n",
    "    # Calcula en base a la fórmula los fahrenheit a partir de los celsius\n",
    "    fahrenheit = celsius * 9/5 + 32\n",
    "    print(fahrenheit)\n"
   ]
  },
  {
   "cell_type": "code",
   "execution_count": 40,
   "metadata": {},
   "outputs": [
    {
     "name": "stdout",
     "output_type": "stream",
     "text": [
      "55.04\n"
     ]
    }
   ],
   "source": [
    "calculadora_cf()"
   ]
  }
 ],
 "metadata": {
  "kernelspec": {
   "display_name": "Python 3",
   "language": "python",
   "name": "python3"
  },
  "language_info": {
   "codemirror_mode": {
    "name": "ipython",
    "version": 3
   },
   "file_extension": ".py",
   "mimetype": "text/x-python",
   "name": "python",
   "nbconvert_exporter": "python",
   "pygments_lexer": "ipython3",
   "version": "3.11.9"
  },
  "nbTranslate": {
   "displayLangs": [
    "*"
   ],
   "hotkey": "alt-t",
   "langInMainMenu": true,
   "sourceLang": "en",
   "targetLang": "fr",
   "useGoogleTranslate": true
  },
  "varInspector": {
   "cols": {
    "lenName": 16,
    "lenType": 16,
    "lenVar": 40
   },
   "kernels_config": {
    "python": {
     "delete_cmd_postfix": "",
     "delete_cmd_prefix": "del ",
     "library": "var_list.py",
     "varRefreshCmd": "print(var_dic_list())"
    },
    "r": {
     "delete_cmd_postfix": ") ",
     "delete_cmd_prefix": "rm(",
     "library": "var_list.r",
     "varRefreshCmd": "cat(var_dic_list()) "
    }
   },
   "types_to_exclude": [
    "module",
    "function",
    "builtin_function_or_method",
    "instance",
    "_Feature"
   ],
   "window_display": false
  }
 },
 "nbformat": 4,
 "nbformat_minor": 4
}
