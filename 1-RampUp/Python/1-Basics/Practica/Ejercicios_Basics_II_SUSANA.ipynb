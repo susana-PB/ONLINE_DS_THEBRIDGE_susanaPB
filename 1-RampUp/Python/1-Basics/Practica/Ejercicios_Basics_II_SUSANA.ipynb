{
 "cells": [
  {
   "cell_type": "markdown",
   "metadata": {},
   "source": [
    "![imagen](./img/ejercicios.png)"
   ]
  },
  {
   "cell_type": "markdown",
   "metadata": {},
   "source": [
    "# Ejercicios Python Basics II"
   ]
  },
  {
   "cell_type": "markdown",
   "metadata": {},
   "source": [
    "## Ejercicio 1\n",
    "* Crea dos variables numericas: un `int` y un `float`\n",
    "* Comprueba sus tipos\n",
    "* Sumalas en otra nueva\n",
    "* ¿De qué tipo es la nueva variable?\n",
    "* Elimina las variables creadas"
   ]
  },
  {
   "cell_type": "code",
   "execution_count": null,
   "metadata": {},
   "outputs": [],
   "source": [
    "# Variables nuéricas int y float\n",
    "numero_int = 6\n",
    "numero_float = 6.12"
   ]
  },
  {
   "cell_type": "code",
   "execution_count": 2,
   "metadata": {},
   "outputs": [
    {
     "name": "stdout",
     "output_type": "stream",
     "text": [
      "<class 'int'> <class 'float'>\n"
     ]
    }
   ],
   "source": [
    "# Comprobación de tipos\n",
    "print(type(numero_int), type(numero_float))"
   ]
  },
  {
   "cell_type": "code",
   "execution_count": 7,
   "metadata": {},
   "outputs": [
    {
     "name": "stdout",
     "output_type": "stream",
     "text": [
      "12.12\n"
     ]
    }
   ],
   "source": [
    "# Suma de variables en una nueva\n",
    "numero_int_float = numero_int + numero_float\n",
    "print(round(numero_int_float,3))"
   ]
  },
  {
   "cell_type": "code",
   "execution_count": 8,
   "metadata": {},
   "outputs": [
    {
     "name": "stdout",
     "output_type": "stream",
     "text": [
      "<class 'float'>\n"
     ]
    }
   ],
   "source": [
    "# Tipo variable numero_int_float\n",
    "print(type(numero_int_float))"
   ]
  },
  {
   "cell_type": "code",
   "execution_count": 12,
   "metadata": {},
   "outputs": [
    {
     "ename": "NameError",
     "evalue": "name 'numero_int' is not defined",
     "output_type": "error",
     "traceback": [
      "\u001b[1;31m---------------------------------------------------------------------------\u001b[0m",
      "\u001b[1;31mNameError\u001b[0m                                 Traceback (most recent call last)",
      "Cell \u001b[1;32mIn[12], line 2\u001b[0m\n\u001b[0;32m      1\u001b[0m \u001b[38;5;66;03m# Eliminar variables\u001b[39;00m\n\u001b[1;32m----> 2\u001b[0m \u001b[38;5;28;01mdel\u001b[39;00m(numero_int,numero_float,numero_int_float)\n\u001b[0;32m      3\u001b[0m \u001b[38;5;28mprint\u001b[39m(numero_float)\n",
      "\u001b[1;31mNameError\u001b[0m: name 'numero_int' is not defined"
     ]
    }
   ],
   "source": [
    "# Eliminar variables\n",
    "del(numero_int,numero_float,numero_int_float)\n",
    "print(numero_float)\n"
   ]
  },
  {
   "cell_type": "markdown",
   "metadata": {},
   "source": [
    "## Ejercicio 2\n",
    "Escribe un programa para pasar de grados a radianes. Hay que usar `input`. Recuerda que la conversión se realiza mediante\n",
    "\n",
    "$$radianes = grados*(pi/180)$$"
   ]
  },
  {
   "cell_type": "code",
   "execution_count": 99,
   "metadata": {},
   "outputs": [],
   "source": [
    "import math"
   ]
  },
  {
   "cell_type": "code",
   "execution_count": 36,
   "metadata": {},
   "outputs": [
    {
     "name": "stdout",
     "output_type": "stream",
     "text": [
      "25.0\n",
      "La conversión de 25 grados devuelve 0.4363323129985824 radianes\n"
     ]
    }
   ],
   "source": [
    "grados = input(\"Hola, este programa pasa de grados a radianes. Dame un grado\")\n",
    "print(float(grados))\n",
    "radianes = float(grados) * math.pi/180\n",
    "print(f\"La conversión de {grados} grados devuelve {radianes} radianes\")"
   ]
  },
  {
   "cell_type": "markdown",
   "metadata": {},
   "source": [
    "## Ejercicio 3\n",
    "Escribe un programa que calcule el area de un paralelogramo (base x altura). También con `input`"
   ]
  },
  {
   "cell_type": "code",
   "execution_count": 41,
   "metadata": {},
   "outputs": [
    {
     "name": "stdout",
     "output_type": "stream",
     "text": [
      "2.0\n",
      "3.6\n",
      "Según mis cálculos, el área de un paralelogramo de 2 cm de base y 3.6 cm de altura es de 7.2 centímetros\n"
     ]
    }
   ],
   "source": [
    "base = input(\"Hola, vamos a calcular el área de tu paralelogramo. Dime que base tiene. ¡Recuerda decirmelo en centimetros!\")\n",
    "print(float(base))\n",
    "altura = input(\"Genial, ahora dame la altura, también en centímetros\")\n",
    "print(float(altura))\n",
    "area = float(base) * float(altura)\n",
    "print(f\"Según mis cálculos, el área de un paralelogramo de {base} cm de base y {altura} cm de altura es de {area} centímetros\")\n"
   ]
  },
  {
   "cell_type": "markdown",
   "metadata": {},
   "source": [
    "## Ejercicio 4\n",
    "Tenemos las siguientes variables:\n",
    "\n",
    "```Python\n",
    "A = 4\n",
    "B = \"Text\"\n",
    "C = 4.1\n",
    "```\n",
    "\n",
    "Comprueba:\n",
    "1. Si A y B son equivalentes\n",
    "2. Si A y C NO son equivalentes\n",
    "3. Si A es mayor que C \n",
    "4. Si C es menor o igual que A\n",
    "5. Si B NO es equivalente a C"
   ]
  },
  {
   "cell_type": "code",
   "execution_count": 47,
   "metadata": {},
   "outputs": [],
   "source": [
    "A = 4\n",
    "B = \"Text\"\n",
    "C = 4.1"
   ]
  },
  {
   "cell_type": "code",
   "execution_count": null,
   "metadata": {},
   "outputs": [
    {
     "name": "stdout",
     "output_type": "stream",
     "text": [
      "No son iguales\n"
     ]
    }
   ],
   "source": [
    "# Si A y B son iguales\n",
    "if A == B:\n",
    "    print(\"Son iguales\")\n",
    "else:\n",
    "    print(\"No son iguales\")"
   ]
  },
  {
   "cell_type": "code",
   "execution_count": 50,
   "metadata": {},
   "outputs": [
    {
     "name": "stdout",
     "output_type": "stream",
     "text": [
      "No son equivalentes\n"
     ]
    }
   ],
   "source": [
    "# Si A y C no son equivalentes\n",
    "if A != C:\n",
    "    print(\"No son equivalentes\")\n",
    "else:\n",
    "    print(\"Son equivalentes\")"
   ]
  },
  {
   "cell_type": "code",
   "execution_count": 43,
   "metadata": {},
   "outputs": [
    {
     "name": "stdout",
     "output_type": "stream",
     "text": [
      "No lo son\n"
     ]
    }
   ],
   "source": [
    "if A == B:\n",
    "    print(\"Son iguales\")\n",
    "else:\n",
    "    print(\"No lo son\")"
   ]
  },
  {
   "cell_type": "code",
   "execution_count": 51,
   "metadata": {},
   "outputs": [
    {
     "name": "stdout",
     "output_type": "stream",
     "text": [
      "No es mayor\n"
     ]
    }
   ],
   "source": [
    "# Si A es mayor que C\n",
    "if A > C:\n",
    "    print(\"Es mayor\")\n",
    "else:\n",
    "    print(\"No es mayor\")"
   ]
  },
  {
   "cell_type": "code",
   "execution_count": 52,
   "metadata": {},
   "outputs": [
    {
     "name": "stdout",
     "output_type": "stream",
     "text": [
      "No es menor o igual\n"
     ]
    }
   ],
   "source": [
    "# Si C es menor o igual que A\n",
    "if C <= A:\n",
    "    print(\"Es menor o igual\")\n",
    "else:\n",
    "    print(\"No es menor o igual\")"
   ]
  },
  {
   "cell_type": "code",
   "execution_count": 53,
   "metadata": {},
   "outputs": [
    {
     "name": "stdout",
     "output_type": "stream",
     "text": [
      "No es equivalente\n"
     ]
    }
   ],
   "source": [
    "# Si A es mayor que C\n",
    "if B != C:\n",
    "    print(\"No es equivalente\")\n",
    "else:\n",
    "    print(\"Es equivalente\")"
   ]
  },
  {
   "cell_type": "markdown",
   "metadata": {},
   "source": [
    "## Ejercicio 5\n",
    "Crea un programa donde se recojan dos inputs del usuario, y el output del programa sea si esos inputs son iguales o no"
   ]
  },
  {
   "cell_type": "code",
   "execution_count": 62,
   "metadata": {},
   "outputs": [
    {
     "name": "stdout",
     "output_type": "stream",
     "text": [
      "susana\n",
      "1.66\n",
      "Los datos aportados no son iguales\n"
     ]
    }
   ],
   "source": [
    "dato_1 = input(\"Hola! Dime cuál es tu nombre\")\n",
    "print(str(dato_1.lower()))\n",
    "dato_2 = input(\"y cual es tu estatura?\")\n",
    "print(str(dato_2.lower()))\n",
    "if dato_1 == dato_2:\n",
    "    print(\"Los datos aportados son iguales\")\n",
    "else:\n",
    "    print(\"Los datos aportados no son iguales\")"
   ]
  },
  {
   "cell_type": "markdown",
   "metadata": {},
   "source": [
    "## Ejercicio 6\n",
    "Mismo programa que en 5, pero en esta ocasión tienen que ser tres inputs y dos salidas. Una de las salidas que nos indique si todos son iguales, y la otra si al menos dos inputs sí que lo son"
   ]
  },
  {
   "cell_type": "code",
   "execution_count": 68,
   "metadata": {},
   "outputs": [
    {
     "name": "stdout",
     "output_type": "stream",
     "text": [
      "susana\n",
      "1.66\n",
      "b\n",
      "Los datos aportados no son iguales\n",
      "Al menos dos imputs son iguales\n"
     ]
    }
   ],
   "source": [
    "dato_1 = input(\"Hola! Dime cuál es tu nombre\")\n",
    "print(str(dato_1.lower()))\n",
    "dato_2 = input(\"y cual es tu estatura?\")\n",
    "print(float(dato_2))\n",
    "dato_3 = input(\"Para finalizar, elige una letra entre estas dos: la A o la B\")\n",
    "print(str(dato_3.lower()))\n",
    "if dato_1 == dato_2 and dato_3:\n",
    "    print(\"Los datos aportados son iguales\")\n",
    "else:\n",
    "    print(\"Los datos aportados no son iguales\")\n",
    "if (dato_1 == dato_2 or dato_3) or (dato_2 == dato_1 or dato_3):\n",
    "    print(\"Al menos dos imputs son iguales\")"
   ]
  },
  {
   "cell_type": "markdown",
   "metadata": {},
   "source": [
    "## Ejercicio 7\n",
    "Crea un programa que recoja dos inputs. Tiene que comprobar si su suma es igual, superior o inferior a 10, cada condición por separado"
   ]
  },
  {
   "cell_type": "code",
   "execution_count": 76,
   "metadata": {},
   "outputs": [
    {
     "name": "stdout",
     "output_type": "stream",
     "text": [
      "2\n",
      "3\n",
      "La suma de las edades es inferior a 10\n"
     ]
    }
   ],
   "source": [
    "dato_1 = input(\"Hola! Dime cuántos años tiene tu primer hijo\")\n",
    "print(int(dato_1))\n",
    "dato_2 = input(\"y ¿Cuántos años tiene tu segundo hijo?\")\n",
    "print(int(dato_2))\n",
    "suma_edad = int(dato_1) + int(dato_2)\n",
    "if suma_edad == 10:\n",
    "    print(\"La suma de las edades es igual a 10\")\n",
    "elif suma_edad >10:\n",
    "    print(\"La suma de las edades es superior a 10\")\n",
    "else:\n",
    "    print(\"La suma de las edades es inferior a 10\")\n",
    "\n"
   ]
  },
  {
   "attachments": {},
   "cell_type": "markdown",
   "metadata": {},
   "source": [
    "## Ejercicio 8\n",
    "Razona sin ejecutar código el output que obtendremos de las siguientes sentencias\n",
    "1. True and True and False\n",
    "2. not ((True or False) and (True or False))\n",
    "3. (False or False or False or True) and False\n",
    "4. not False and True and not True\n",
    "\n",
    "Compruébalo después con python"
   ]
  },
  {
   "cell_type": "markdown",
   "metadata": {},
   "source": [
    "1. False\n",
    "2. not (True) and (True) = False and True = False\n",
    "3. True and False = False\n",
    "4. True and True and False = False"
   ]
  },
  {
   "cell_type": "markdown",
   "metadata": {},
   "source": []
  },
  {
   "cell_type": "code",
   "execution_count": 90,
   "metadata": {},
   "outputs": [
    {
     "name": "stdout",
     "output_type": "stream",
     "text": [
      "False\n",
      "False\n",
      "False\n",
      "False\n"
     ]
    }
   ],
   "source": [
    "print(True and True and False)\n",
    "print(not True and false)\n",
    "print(True and False)\n",
    "print(not True and not False)\n",
    "\n"
   ]
  },
  {
   "cell_type": "markdown",
   "metadata": {},
   "source": [
    "## Ejercicio 9\n",
    "Para este ejercicio vamos a poner en práctica [las funciones built in](https://docs.python.org/3/library/functions.html).\n",
    "\n",
    "1. Calcula el máximo de la lista: [4, 6, 8, -1]\n",
    "2. Suma todos los elementos de la lista anterior\n",
    "3. Redondea este float a 3 dígitos decimales: 63.451256965\n",
    "4. Valor absoluto de: -74"
   ]
  },
  {
   "cell_type": "code",
   "execution_count": 91,
   "metadata": {},
   "outputs": [],
   "source": [
    "mi_lista = [4,6,8,-1]\n"
   ]
  },
  {
   "cell_type": "code",
   "execution_count": 95,
   "metadata": {},
   "outputs": [
    {
     "data": {
      "text/plain": [
       "8"
      ]
     },
     "execution_count": 95,
     "metadata": {},
     "output_type": "execute_result"
    }
   ],
   "source": [
    "# Máximo\n",
    "max(mi_lista)"
   ]
  },
  {
   "cell_type": "code",
   "execution_count": 96,
   "metadata": {},
   "outputs": [
    {
     "data": {
      "text/plain": [
       "17"
      ]
     },
     "execution_count": 96,
     "metadata": {},
     "output_type": "execute_result"
    }
   ],
   "source": [
    "# Suma elementos\n",
    "sum(mi_lista)"
   ]
  },
  {
   "cell_type": "code",
   "execution_count": 97,
   "metadata": {},
   "outputs": [
    {
     "data": {
      "text/plain": [
       "63.451"
      ]
     },
     "execution_count": 97,
     "metadata": {},
     "output_type": "execute_result"
    }
   ],
   "source": [
    "# Redondeo de float\n",
    "mi_float = 63.451256965\n",
    "round(mi_float,3)"
   ]
  },
  {
   "cell_type": "code",
   "execution_count": 101,
   "metadata": {},
   "outputs": [
    {
     "data": {
      "text/plain": [
       "74.0"
      ]
     },
     "execution_count": 101,
     "metadata": {},
     "output_type": "execute_result"
    }
   ],
   "source": [
    "# Valor absoluto\n",
    "math.fabs(-74)\n"
   ]
  },
  {
   "cell_type": "markdown",
   "metadata": {},
   "source": [
    "## Ejercicio 10\n",
    "Para el siguiente string se pide imprimir por pantalla los siguientes casos\n",
    "\n",
    "    \"Lo primero de todo, cómo están los máquinas\"\n",
    "\n",
    "1. Pasarlo todo a mayúsculas\n",
    "2. Pasarlo todo a minúsculas\n",
    "3. Pasar a mayúsculas solo las iniciales de las palabras\n",
    "4. Crea una lista dividiendolo por sus espacios\n",
    "5. Sustituye las comas `,` por puntos y comas `;`\n",
    "6. Elimina las `a` minúsculas"
   ]
  },
  {
   "cell_type": "code",
   "execution_count": 213,
   "metadata": {},
   "outputs": [
    {
     "name": "stdout",
     "output_type": "stream",
     "text": [
      "LO PRIMERO DE TODO, CÓMO ESTÁN LOS MÁQUINAS\n",
      "lo primero de todo, cómo están los máquinas\n",
      "Lo Primero De Todo, Cómo Están Los Máquinas\n",
      "['Lo', 'primero', 'de', 'todo,', 'cómo', 'están', 'los', 'máquinas']\n",
      "Lo primero de todo; cómo están los máquinas\n",
      "Lo primero de todo, cómo estn los mquinas\n"
     ]
    }
   ],
   "source": [
    "# Mayúscula\n",
    "mi_frase = \"Lo primero de todo, cómo están los máquinas\"\n",
    "print(mi_frase.upper())\n",
    "\n",
    "\n",
    "# Minúscula\n",
    "print(mi_frase.lower())\n",
    "\n",
    "# A mayúsuculas las iniciales\n",
    "print(mi_frase.title())\n",
    "\n",
    "# Lista con espacios\n",
    "lista_frase = mi_frase.split()\n",
    "print(lista_frase)\n",
    "\n",
    "# Sustitución comas por punto y coma\n",
    "mi_frase = \"Lo primero de todo, cómo están los máquinas\"\n",
    "print(mi_frase.replace(\",\",\";\"))\n",
    "\n",
    "# Elimina la a minúscula\n",
    "mi_frase = \"Lo primero de todo, cómo están los máquinas\"\n",
    "print(mi_frase.replace(\"á\", \"\"))\n",
    "\n",
    "\n",
    "\n",
    "\n"
   ]
  },
  {
   "cell_type": "markdown",
   "metadata": {},
   "source": [
    "## Ejercicio 11\n",
    "1. Crea una lista con 3 elementos numéricos\n",
    "2. Añade un cuarto elemento\n",
    "3. Calcula la suma de todos\n",
    "4. Elimina el segundo elemento de la lista\n",
    "5. Añade otro elemento en la posicion 3 de la lista\n",
    "6. Crea otra lista con 4 elementos y concaténala a la que ya tenías."
   ]
  },
  {
   "cell_type": "code",
   "execution_count": 168,
   "metadata": {},
   "outputs": [
    {
     "name": "stdout",
     "output_type": "stream",
     "text": [
      "[1, 2, 3, 4]\n",
      "10\n",
      "[1, 2, 4]\n",
      "[1, 2, 4, 5]\n"
     ]
    }
   ],
   "source": [
    "# Crear lista\n",
    "mis_numeros = [1,2,3]\n",
    "\n",
    "#Añadir cuarto elemento\n",
    "mis_numeros.append(4)\n",
    "print(mis_numeros)\n",
    "\n",
    "#Calcular la suma de todos\n",
    "suma_mis_numeros = sum(mis_numeros)\n",
    "print(suma_mis_numeros)\n",
    "\n",
    "# Eliminar segundo elemento\n",
    "mis_numeros.pop(2)\n",
    "print(mis_numeros)\n",
    "\n",
    "# Añadir elemento en posición 3\n",
    "mis_numeros.insert(3,5)\n",
    "print(mis_numeros)\n",
    "\n"
   ]
  },
  {
   "cell_type": "code",
   "execution_count": 162,
   "metadata": {},
   "outputs": [
    {
     "name": "stdout",
     "output_type": "stream",
     "text": [
      "[10, 12, 14, 16]\n",
      "[1, 2, 4, 3, 10, 12, 14, 16]\n"
     ]
    }
   ],
   "source": [
    "# Nueva lista concatenada\n",
    "otra_lista = [10,12,14,16]\n",
    "print(otra_lista)\n",
    "concatenada = mis_numeros + otra_lista\n",
    "print(concatenada)\n"
   ]
  }
 ],
 "metadata": {
  "kernelspec": {
   "display_name": "Python 3",
   "language": "python",
   "name": "python3"
  },
  "language_info": {
   "codemirror_mode": {
    "name": "ipython",
    "version": 3
   },
   "file_extension": ".py",
   "mimetype": "text/x-python",
   "name": "python",
   "nbconvert_exporter": "python",
   "pygments_lexer": "ipython3",
   "version": "3.10.11"
  },
  "nbTranslate": {
   "displayLangs": [
    "*"
   ],
   "hotkey": "alt-t",
   "langInMainMenu": true,
   "sourceLang": "en",
   "targetLang": "fr",
   "useGoogleTranslate": true
  },
  "varInspector": {
   "cols": {
    "lenName": 16,
    "lenType": 16,
    "lenVar": 40
   },
   "kernels_config": {
    "python": {
     "delete_cmd_postfix": "",
     "delete_cmd_prefix": "del ",
     "library": "var_list.py",
     "varRefreshCmd": "print(var_dic_list())"
    },
    "r": {
     "delete_cmd_postfix": ") ",
     "delete_cmd_prefix": "rm(",
     "library": "var_list.r",
     "varRefreshCmd": "cat(var_dic_list()) "
    }
   },
   "types_to_exclude": [
    "module",
    "function",
    "builtin_function_or_method",
    "instance",
    "_Feature"
   ],
   "window_display": false
  }
 },
 "nbformat": 4,
 "nbformat_minor": 4
}
