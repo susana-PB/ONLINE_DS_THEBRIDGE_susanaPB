{
 "cells": [
  {
   "cell_type": "markdown",
   "metadata": {},
   "source": [
    "![imagen](./img/ejercicios.png)"
   ]
  },
  {
   "cell_type": "markdown",
   "metadata": {},
   "source": [
    "# Ejercicios Flujos de control"
   ]
  },
  {
   "cell_type": "markdown",
   "metadata": {},
   "source": [
    "## Ejercicio 1\n",
    "Declara una variable numérica que será una hora cualquiera del día. Implementa la siguiente casuística:\n",
    "\n",
    "* Si es entre las 0 y las 8, print \"Durmiendo\"\n",
    "* Si es entre las 9 y las 18, print \"Trabajando\"\n",
    "* Si es entre las 19 y las 21, print \"Clase\"\n",
    "* Si es entre las 22 y las 24, print \"Descanso\"\n",
    "* En cualquier otro caso, print \"Transporte o error\""
   ]
  },
  {
   "cell_type": "code",
   "execution_count": 3,
   "metadata": {},
   "outputs": [
    {
     "name": "stdout",
     "output_type": "stream",
     "text": [
      "Durmiendo\n"
     ]
    }
   ],
   "source": [
    "# objetivo es indicar una hora del dia y que me diga en qué situación está segun una franja horaria definida\n",
    "# variable hora\n",
    "hora = 00\n",
    "# se cumplen casos distintos dependiendo de horario --> if\n",
    "if hora < 8:\n",
    "    print(\"Durmiendo\")\n",
    "elif hora < 18:\n",
    "    print(\"Trabajando\")\n",
    "elif hora < 21:\n",
    "    print(\"Clase\")\n",
    "elif hora <= 24:\n",
    "    print(\"Descanso\")\n",
    "else:\n",
    "    print(\"Transporte o error\")\n",
    "# un caso concreto para el resto de horarios --> else\n",
    "\n"
   ]
  },
  {
   "cell_type": "markdown",
   "metadata": {},
   "source": [
    "## Ejercicio 2\n",
    "En este ejercicio vamos a implementar un calculador de precios de casas muy sencillo. Tenemos las siguientes variables:\n",
    "\n",
    "> superficie\n",
    ">\n",
    "> distrito\n",
    "\n",
    "Implementa la siguiente casuística:\n",
    "\n",
    "1. Si el distrito es \"Moncloa\" o \"Centro\", y además la superficie es superior a 100 metros cuadrados, el precio de la casa es de 1000\n",
    "2. Si el distrito es \"Salamanca\", y además la superficie de la casa es al menos de 150 metros, el precio de la casa es de 1500\n",
    "3. Si el distrito no es \"Retiro\" y la superficie está entre 60 y 80 metros, el precio es de 600\n",
    "4. En cualquier otro caso, el precio será de 0"
   ]
  },
  {
   "cell_type": "markdown",
   "metadata": {},
   "source": []
  },
  {
   "cell_type": "code",
   "execution_count": 7,
   "metadata": {},
   "outputs": [
    {
     "name": "stdout",
     "output_type": "stream",
     "text": [
      "El precio de la casa es 1000€\n"
     ]
    }
   ],
   "source": [
    "# calcular el precio de la casa en función del distrito y metros cuadrado\n",
    "# variable superficie que voy a ir modificando para probar la calculadora\n",
    "superficie = 250\n",
    "# variable distrito que es la que voy a modificar para probar la calculadora\n",
    "distrito = \"Moncloa\"\n",
    "\n",
    "if distrito == (\"Moncloa\" or \"Centro\") and superficie > 100: # Moncloa o Centro y > 100 metros\n",
    "    print(\"El precio de la casa es 1000€\")\n",
    "elif distrito == \"Salamanca\" and superficie >= 150: # Además, distrito Salamanca y >= 150\n",
    "    print(\"El precio de la casa es 1500€\")\n",
    "elif distrito != \"Retiro\" and superficie >= 60 and superficie <= 80:\n",
    "# Si es distinta a Retiro y >= 60 y <= 80. \n",
    "    print(\"El precio de la casa es 600€\")\n",
    "else:\n",
    "    print(\"El precio de la casa es 0€\")"
   ]
  },
  {
   "cell_type": "markdown",
   "metadata": {},
   "source": [
    "## Ejercicio 3\n",
    "En este ejercicio vamos a realizar un programa muy parecido. Para este caso queremos que se cumplan las siguientes condiciones:\n",
    "\n",
    "1. Primero se compruebe si el distrito es \"Retiro\". Si es asá, que imprima \"Distrito Retiro\", y si no, \"Otro distrito\"\n",
    "2. Si el distrito es \"Retiro\", comprueba si la superficie es mayor de 100 metros cuadrados. En tal caso, que imprima un precio de 1000, y si no, de 500.\n",
    "\n",
    "Prueba a usar `ifs` anidados"
   ]
  },
  {
   "cell_type": "code",
   "execution_count": 53,
   "metadata": {},
   "outputs": [
    {
     "name": "stdout",
     "output_type": "stream",
     "text": [
      " El distrito es Retiro y el precio es 1000\n"
     ]
    }
   ],
   "source": [
    "# Comprobar si el distrito es Retiro e imprimir Distrito Retiro si es SI, o Otro distrito si es NO\n",
    "# Creo dos variables que modifico para probar la calculadora\n",
    "distrito = \"Retiro\"\n",
    "superficie = 300\n",
    "\n",
    "# Busco si distrito es Retiro y si se cumple la segunda condicion que es que sea >100 metros\n",
    "\n",
    "if distrito == \"Retiro\":\n",
    "    if superficie >=100:\n",
    "        print(f\" El distrito es {distrito} y el precio es 1000\")\n",
    "    else:\n",
    "        print(f\" El distrito es {distrito} y el precio es 500\")\n",
    "else:\n",
    "    print(\"Otro distrito\")\n",
    "\n",
    "    "
   ]
  },
  {
   "cell_type": "markdown",
   "metadata": {},
   "source": [
    "## Ejercicio 4\n",
    "Escribe un programa que tenga dos variables: un numero, y una lista numérica. El programa debe recorrer la lista e imprimir por pantalla cada elemento de la lista multiplicado por el número"
   ]
  },
  {
   "cell_type": "code",
   "execution_count": 63,
   "metadata": {},
   "outputs": [],
   "source": [
    "# Pienso en una variable numero y otra variable lista sencilla\n",
    "numero = 6\n",
    "lista = [1,2,3,4,5,6]\n"
   ]
  },
  {
   "cell_type": "code",
   "execution_count": 65,
   "metadata": {},
   "outputs": [
    {
     "name": "stdout",
     "output_type": "stream",
     "text": [
      "6\n",
      "12\n",
      "18\n",
      "24\n",
      "30\n",
      "36\n"
     ]
    }
   ],
   "source": [
    "# Para que calcule el numero con cada elemento veo que debe tener un indice y un valor\n",
    "enumerate(lista)\n",
    "\n",
    "# hago que busque el elemento en la lista y que lo multiplique por la variable numero\n",
    "for elemento in lista:\n",
    "    resultado = elemento * numero\n",
    "    print(resultado)"
   ]
  },
  {
   "cell_type": "markdown",
   "metadata": {},
   "source": [
    "## Ejercicio 5\n",
    "Imprime por pantalla cada número del -10 al -1. En ese orden. Consulta [la documentación](https://www.w3schools.com/python/ref_func_range.asp) de `range`"
   ]
  },
  {
   "cell_type": "code",
   "execution_count": null,
   "metadata": {},
   "outputs": [
    {
     "name": "stdout",
     "output_type": "stream",
     "text": [
      "[-10, -9, -8, -7, -6, -5, -4, -3, -2, -1]\n"
     ]
    }
   ],
   "source": [
    "# Utilizo range con start (en -10), stop (que pare en 0) y step (que vaya de 1 en 1)\n",
    "\n",
    "print(list(range(-10, 0, 1)))"
   ]
  },
  {
   "cell_type": "markdown",
   "metadata": {},
   "source": [
    "## Ejercicio 6\n",
    "Dada la siguiente lista:\n",
    "\n",
    "> list1 = [12, 15, 32, 42, 55, 75, 122, 132, 150, 180, 200]\n",
    "\n",
    "Implementa un programa que los recorra e imprima por pantalla todos los divisibles por 5. Si nos encontramos con alguno que sea mayor que 150, detener el bucle."
   ]
  },
  {
   "cell_type": "code",
   "execution_count": null,
   "metadata": {},
   "outputs": [
    {
     "name": "stdout",
     "output_type": "stream",
     "text": [
      "15\n",
      "55\n",
      "75\n"
     ]
    }
   ],
   "source": [
    "# Genero la variable lista\n",
    "list1 = [12, 15, 32, 42, 55, 75, 122, 132, 150, 180, 200]\n",
    "\n",
    "# Hago que buscque cada elemento y primero le pongo el límite, si es >=150 que se detenga\n",
    "for i in list1:\n",
    "    if i >=150:\n",
    "        break\n",
    "# Luego hago que busque los que se pueden dividir entre 5 con %, y le digo que los imprima\n",
    "    if i % 5 == 0:\n",
    "        print(i)"
   ]
  },
  {
   "attachments": {},
   "cell_type": "markdown",
   "metadata": {},
   "source": [
    "## Ejercicio 7\n",
    "Escribe un programa en Python que imprima por pantalla todos los números que cumplan que sean divisibles por 5 y divisibles por 7, dentro del rango de valores (150, 350)."
   ]
  },
  {
   "cell_type": "code",
   "execution_count": 68,
   "metadata": {},
   "outputs": [],
   "source": [
    "# Creo un rango de valores con range, pongo los valores que indica el enunciado\n",
    "rango = range(150,350)"
   ]
  },
  {
   "cell_type": "code",
   "execution_count": 70,
   "metadata": {},
   "outputs": [
    {
     "name": "stdout",
     "output_type": "stream",
     "text": [
      "175\n",
      "210\n",
      "245\n",
      "280\n",
      "315\n"
     ]
    }
   ],
   "source": [
    "# Hago que busque en cada elemento los numero divisible por 5 Y por 7,\\\n",
    "# ... entiendo que debe ser divisible por ambos\n",
    "for i in rango:\n",
    "    if i % 5 == 0 and i % 7 == 0:\n",
    "        print (i)"
   ]
  },
  {
   "cell_type": "markdown",
   "metadata": {},
   "source": [
    "## Ejercicio 8\n",
    "Implementa un programa que imprima por pantalla el siguiente patrón\n",
    "\n",
    "5 4 3 2 1 \n",
    "\n",
    "4 3 2 1 \n",
    "\n",
    "3 2 1 \n",
    "\n",
    "2 1 \n",
    "\n",
    "1\n",
    "\n",
    "NOTA: NO hay lineas en blanco entre una línea y otra."
   ]
  },
  {
   "cell_type": "code",
   "execution_count": 54,
   "metadata": {},
   "outputs": [
    {
     "name": "stdout",
     "output_type": "stream",
     "text": [
      "[5, 4, 3, 2, 1]\n",
      "[4, 3, 2, 1]\n",
      "[3, 2, 1]\n",
      "[2, 1]\n"
     ]
    }
   ],
   "source": [
    "# genero una lista\n",
    "lista = [1,2,3,4,5]\n",
    "# cambio el orden de la lista\n",
    "lista_invertida = lista [::-1]\n",
    "print(lista_invertida)\n",
    "\n",
    "# quiero que me vaya imprimiendo la lista y en cada impresión elimine 1 numero según posicion\n",
    "for num in lista_invertida:\n",
    "    del lista_invertida [0]\n",
    "    print(lista_invertida)\n",
    "\n",
    "\n",
    "\n",
    "\n"
   ]
  },
  {
   "cell_type": "markdown",
   "metadata": {},
   "source": [
    "## Ejercicio 9\n",
    "En este ejercicio vamos a crear un pequeño juego. Se trata de intentar adivinar un numero del 1 al 5. Tenemos dos intentos para acertar. Pasos a seguir:\n",
    "\n",
    "1. Ya viene implementado con la librería `random` cómo obtener un número aleatorio del 1 al 5\n",
    "2. Tendrás que declarar en una variable el numero de vidas, y mediante un bucle while, comprobar que todavia quedan vidas.\n",
    "3. Dentro del bucle, obtener el valor del usuario y comprobar si es ese el numero a adivinar. Si no, actualizar las vidas.\n",
    "4. Si acertamos, salimos del bucle e imprimimos por pantalla \"You win\". Y si perdemos también salimos del bucle, pero en este caso imprimimos por pantalla \"You lose\".\n",
    "\n",
    "TIP: te puede resultar útil usar la sentencia `else` cuando acabe el bucle `while`. Lo que haya dentro de ese `else` se ejecutará una vez acabe la ejecución del `while`. Lo podrás usar para cuando pierdas."
   ]
  },
  {
   "cell_type": "code",
   "execution_count": 4,
   "metadata": {},
   "outputs": [],
   "source": [
    "# me importo la libreria\n",
    "import random"
   ]
  },
  {
   "cell_type": "code",
   "execution_count": null,
   "metadata": {},
   "outputs": [
    {
     "name": "stdout",
     "output_type": "stream",
     "text": [
      "Te queda 1 intento\n",
      "You win\n"
     ]
    }
   ],
   "source": [
    "# Utilizo random.randint para indicar que es aleatorio y que es entre 1 y 5\n",
    "numero_aleatorio = random.randint(1, 5)\n",
    "# Variable con numero de intentos\n",
    "numero_intentos = 2\n",
    "\n",
    "# Utilizo While porque es un juego y tiene que probar opciones y hacer descartes\n",
    "while numero_intentos > 0:\n",
    "    # Consigo el número con input, lo convierto a int\n",
    "    numero_adivinar = int(input(\"Dime un número del 1 al 5. Tienes dos intentos para adivinarlo\"))\n",
    "    # Quiero asegurar que se introducen los números en su rango\n",
    "    if numero_adivinar > 5 or numero_adivinar <=0:\n",
    "        print(\"Este numero no vale, debe ser entre 1 y 5\") \n",
    "        continue\n",
    "    try:\n",
    "        if numero_adivinar == numero_aleatorio: # si se cumple, se termina el bucle\n",
    "            print(\"You win\")\n",
    "            break\n",
    "        else:\n",
    "            numero_intentos = numero_intentos - 1 # resta 1 a los intentos de la variable\n",
    "        if numero_intentos > 0:\n",
    "            print(\"Te queda 1 intento\")\n",
    "    except:\n",
    "\n",
    "if numero_intentos == 0: # cuando llegan los intentos a 0 pierde\n",
    "    print(\"You lose\")"
   ]
  }
 ],
 "metadata": {
  "kernelspec": {
   "display_name": "Python 3",
   "language": "python",
   "name": "python3"
  },
  "language_info": {
   "codemirror_mode": {
    "name": "ipython",
    "version": 3
   },
   "file_extension": ".py",
   "mimetype": "text/x-python",
   "name": "python",
   "nbconvert_exporter": "python",
   "pygments_lexer": "ipython3",
   "version": "3.10.11"
  }
 },
 "nbformat": 4,
 "nbformat_minor": 4
}
