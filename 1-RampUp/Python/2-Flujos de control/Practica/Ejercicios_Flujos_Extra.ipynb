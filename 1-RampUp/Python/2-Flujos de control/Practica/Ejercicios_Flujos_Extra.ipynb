{
 "cells": [
  {
   "cell_type": "markdown",
   "metadata": {},
   "source": [
    "![imagen](./img/ejercicios.png)"
   ]
  },
  {
   "cell_type": "markdown",
   "metadata": {},
   "source": [
    "# Ejercicios Flujos de control"
   ]
  },
  {
   "cell_type": "markdown",
   "metadata": {},
   "source": [
    "## Ejercicio Extra\n",
    "Programa una calculadora que\n",
    "\n",
    "* Pregunte qué operación quieres realizar (multiplicación/división/suma/resta/potencia/salir)\n",
    "* Pida dos números \n",
    "* Realice la operación\n",
    "* Siga funcionando hasta que el usuario elija salir\n",
    "\n",
    "#### Bonus:\n",
    "* Que guarde todas las operaciones realizadas y las imprima por pantalla cuando el usuario elija esa opción\n",
    "* Que sea robusta frente a entradas erróneas del usuario o frente a operaciones como dividir por 0"
   ]
  },
  {
   "cell_type": "code",
   "execution_count": 3,
   "metadata": {},
   "outputs": [],
   "source": [
    "import math\n",
    "import pprint\n",
    "import time"
   ]
  },
  {
   "cell_type": "code",
   "execution_count": null,
   "metadata": {},
   "outputs": [],
   "source": [
    "operacion = input(\"Qué operación quieres realizar? \\\n",
    "                  elige una de estas: multiplicación,\\\n",
    "                  división,suma,resta,potencia,salir\")\n",
    "operacion.replace(\"ó\", \"o\")\n",
    "print(operacion)\n",
    "numero_1 = int(input(\"Dáme un número\"))\n",
    "print(numero_1)\n",
    "numero_2 = int(input(\"Ahora dáme otro número\"))\n",
    "print(numero_2)\n",
    "\n",
    "if operacion == \"suma\":\n",
    "    resultado_1 = numero_1 + numero_2\n",
    "    print(f\"El resultado es {resultado_1}\")\n",
    "elif operacion == \"resta\":\n",
    "    resultado_2 = numero_1 - numero_2\n",
    "    print(f\"El resultado es {resultado_2}\")\n",
    "elif operacion == \"multiplicacion\":\n",
    "    resultado_3 = numero_1 * numero_2\n",
    "    print(f\"El resultado es {resultado_3}\")\n",
    "elif operacion == \"division\":\n",
    "    resultado_4 = numero_1 / numero_2\n",
    "    print(f\"El resultado es {resultado_4}\")"
   ]
  }
 ],
 "metadata": {
  "kernelspec": {
   "display_name": "Python 3",
   "language": "python",
   "name": "python3"
  },
  "language_info": {
   "codemirror_mode": {
    "name": "ipython",
    "version": 3
   },
   "file_extension": ".py",
   "mimetype": "text/x-python",
   "name": "python",
   "nbconvert_exporter": "python",
   "pygments_lexer": "ipython3",
   "version": "3.10.11"
  }
 },
 "nbformat": 4,
 "nbformat_minor": 4
}
