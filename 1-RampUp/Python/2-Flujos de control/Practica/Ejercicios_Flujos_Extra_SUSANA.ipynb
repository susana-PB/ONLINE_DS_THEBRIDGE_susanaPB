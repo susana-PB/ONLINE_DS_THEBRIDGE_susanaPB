{
 "cells": [
  {
   "cell_type": "markdown",
   "metadata": {},
   "source": [
    "![imagen](./img/ejercicios.png)"
   ]
  },
  {
   "cell_type": "markdown",
   "metadata": {},
   "source": [
    "# Ejercicios Flujos de control"
   ]
  },
  {
   "cell_type": "markdown",
   "metadata": {},
   "source": [
    "## Ejercicio Extra\n",
    "Programa una calculadora que\n",
    "\n",
    "* Pregunte qué operación quieres realizar (multiplicación/división/suma/resta/potencia/salir)\n",
    "* Pida dos números \n",
    "* Realice la operación\n",
    "* Siga funcionando hasta que el usuario elija salir\n",
    "\n",
    "#### Bonus:\n",
    "* Que guarde todas las operaciones realizadas y las imprima por pantalla cuando el usuario elija esa opción\n",
    "* Que sea robusta frente a entradas erróneas del usuario o frente a operaciones como dividir por 0"
   ]
  },
  {
   "cell_type": "code",
   "execution_count": 2,
   "metadata": {},
   "outputs": [],
   "source": [
    "import math\n",
    "import pprint\n",
    "import time"
   ]
  },
  {
   "cell_type": "code",
   "execution_count": 4,
   "metadata": {},
   "outputs": [
    {
     "name": "stdout",
     "output_type": "stream",
     "text": [
      "division\n",
      "6\n",
      "0\n",
      "Error: No se puede dividir entre cero.\n"
     ]
    }
   ],
   "source": [
    "operacion = \"\"\n",
    "\n",
    "while operacion != \"salir\":\n",
    "    operacion = input(\"Qué operación quieres realizar? \\\n",
    "                  elige una de estas: multiplicación,\\\n",
    "                  división,suma,resta,potencia,salir\").replace (\"ó\",\"o\")\n",
    "    print(operacion)\n",
    "    if operacion == \"salir\":\n",
    "        print(\"Gracias por participar\")\n",
    "        break\n",
    "    numero_1 = int(input(\"Dáme un número\"))\n",
    "    print(numero_1)\n",
    "    numero_2 = int(input(\"Ahora dáme otro número\"))\n",
    "    print(numero_2)\n",
    "    if operacion == \"suma\":\n",
    "        resultado_1 = numero_1 + numero_2\n",
    "        print(f\"El resultado es {resultado_1}\")\n",
    "        break\n",
    "    elif operacion == \"resta\":\n",
    "        resultado_2 = numero_1 - numero_2\n",
    "        print(f\"El resultado es {resultado_2}\")\n",
    "        break\n",
    "    elif operacion == \"multiplicacion\":\n",
    "        resultado_3 = numero_1 * numero_2\n",
    "        print(f\"El resultado es {resultado_3}\")\n",
    "        break\n",
    "    elif operacion == \"division\":\n",
    "        if numero_2 == 0:\n",
    "            print(\"Error: No se puede dividir entre cero.\") \n",
    "        else:\n",
    "            resultado_4 = numero_1 / numero_2\n",
    "            print(f\"El resultado es {resultado_4}\")\n",
    "        break\n",
    "    else:\n",
    "        print(f\"No reconozco la operación,¿Estás segura de que la has escrito bien? inténtalo de nuevo\")\n"
   ]
  }
 ],
 "metadata": {
  "kernelspec": {
   "display_name": "Python 3",
   "language": "python",
   "name": "python3"
  },
  "language_info": {
   "codemirror_mode": {
    "name": "ipython",
    "version": 3
   },
   "file_extension": ".py",
   "mimetype": "text/x-python",
   "name": "python",
   "nbconvert_exporter": "python",
   "pygments_lexer": "ipython3",
   "version": "3.10.11"
  }
 },
 "nbformat": 4,
 "nbformat_minor": 4
}
