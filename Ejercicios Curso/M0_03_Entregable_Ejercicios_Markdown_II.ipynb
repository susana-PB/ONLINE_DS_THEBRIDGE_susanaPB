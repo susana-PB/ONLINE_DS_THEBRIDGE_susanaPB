{
  "cells": [
    {
      "cell_type": "markdown",
      "id": "c49ba49d",
      "metadata": {
        "id": "c49ba49d"
      },
      "source": [
        "<img src=\"./img/TheBridge_logo_RGB_color.jpg\" width = 500>"
      ]
    },
    {
      "cell_type": "markdown",
      "id": "22ff8a1a",
      "metadata": {
        "id": "22ff8a1a"
      },
      "source": [
        "# EJERCICIOS MARKDOWN (II)"
      ]
    },
    {
      "cell_type": "markdown",
      "id": "d626df26",
      "metadata": {
        "id": "d626df26"
      },
      "source": [
        "Aquí tienes cinco sencillos ejercicios para practicar lo aprendido en la segundasesión de Markdown. Como en el anterior, utiliza las celdas que hay debajo de cada enunciado y recuerda convertirlas a Markdown primero ;-)\n",
        "\n",
        "Si algunos ejercicios no los entiendes de primeras, dales una vuelta, busca pistas, busca en Internet... pero todavía no le preguntes a ChatGPT... Recuerda con dudas teóricas corre a preguntar, con los ejercicios exprimete antes de preguntar."
      ]
    },
    {
      "cell_type": "markdown",
      "id": "b2efd92f",
      "metadata": {
        "id": "b2efd92f"
      },
      "source": [
        "### Ejercicio 6: Listas\n",
        "Crea una lista no ordenada con los siguientes elementos:\n",
        "\n",
        "1. Manzanas\n",
        "2. Plátanos\n",
        "3. Uvas"
      ]
    },
    {
      "cell_type": "markdown",
      "id": "72062714",
      "metadata": {},
      "source": [
        "* Manzanas\n",
        "* Plátanos\n",
        "* Uvas"
      ]
    },
    {
      "cell_type": "markdown",
      "id": "c8c2ff80",
      "metadata": {
        "id": "c8c2ff80"
      },
      "source": [
        "Crea ahora una lista ordenada de 1 a 3 y que además lo esté alfabéticamente con estos elementos:\n",
        "\n",
        "    * Arbol binario\n",
        "    * Random Forest\n",
        "    * Regresión Logística"
      ]
    },
    {
      "cell_type": "markdown",
      "id": "6331e75b",
      "metadata": {},
      "source": [
        "1. Arbol binario\n",
        "2. Random Forest\n",
        "3. Regresión Logística\n",
        "\n"
      ]
    },
    {
      "cell_type": "markdown",
      "id": "06ab351b",
      "metadata": {},
      "source": []
    },
    {
      "cell_type": "markdown",
      "id": "2c65c04a",
      "metadata": {
        "id": "2c65c04a"
      },
      "source": [
        "### Ejercicio 7: Listas Anidadas\n",
        "Bajo el título \"Frutas y Verduras\", crea una lista ordenada de frutas, y dentro de esta, anida una lista no ordenada de tres frutas. Luego, crea otra lista ordenada de verduras y anida dentro de ella una lista no ordenada de tres verduras.\n",
        "\n",
        "Las listas anidadas no las hemos visto pero seguro que con esto te haces una idea, como con los subrayados en los ejercicios de la primera parte:\n",
        "1. El elemento con orden\n",
        "* Aquí sin orden\n",
        "2. El siguiente\n",
        "* Pico\n",
        "* Pala\n"
      ]
    },
    {
      "cell_type": "markdown",
      "id": "2f9c02ef",
      "metadata": {},
      "source": [
        "# Frutas y Verduras"
      ]
    },
    {
      "cell_type": "markdown",
      "id": "b565c8cf",
      "metadata": {},
      "source": [
        "1. Fruta ácida\n",
        "    - Limones   \n",
        "    - Kiwi\n",
        "2. Fruta dulce\n",
        "    - Melocotón\n",
        "    - Cereza\n",
        "3. Fruta grande\n",
        "    - Sandía\n",
        "    - Melón"
      ]
    },
    {
      "cell_type": "markdown",
      "id": "fad32b95",
      "metadata": {},
      "source": [
        "1. Verdura hoja verde\n",
        "    * Lechuga\n",
        "    * Espinaca\n",
        "2. Verdura de raíz\n",
        "    * Zanahoria\n",
        "    * Remolacha\n",
        "3. Verdura de flor\n",
        "    * Brócoli\n",
        "    * Coliflor"
      ]
    },
    {
      "cell_type": "markdown",
      "id": "14f887ff",
      "metadata": {},
      "source": []
    },
    {
      "cell_type": "markdown",
      "id": "e224fbf7",
      "metadata": {
        "id": "e224fbf7"
      },
      "source": [
        "### Ejercicio 8: Enlaces e Imágenes\n",
        "Inserta:\n",
        "\n",
        "1. Un enlace que lleve a \"www.thebridge.com\" con el texto \"Por aquí se cruzan puentes\".\n",
        "2. Una imagen de cualquier URL con el texto alternativo \"Logo\". Recuerda que puedes hacerlo referenciando la imagen a través de su ruta en tu ordenador, o bien incrustandola en el notebook\n"
      ]
    },
    {
      "cell_type": "markdown",
      "id": "b409e9bc",
      "metadata": {},
      "source": [
        "[Por aquí se cruzan puentes](www.thebridge.com)"
      ]
    },
    {
      "attachments": {
        "TheBridge.png": {
          "image/png": "[encoded data removed]"
        }
      },
      "cell_type": "markdown",
      "id": "42f94344",
      "metadata": {},
      "source": [
        "![Logo](attachment:TheBridge.png)"
      ]
    },
    {
      "cell_type": "markdown",
      "id": "94e48fe3",
      "metadata": {
        "id": "94e48fe3"
      },
      "source": [
        "### Ejercicio 9: Líneas Horizontales y Bloques de Código\n",
        "Inserta:\n",
        "\n",
        "1. Un bloque de código en Python que imprima \"Hola Mundo\" (pista: print(\"Hola Mundo\")) entre dos líneas horizontales, cada una creada con un método diferente."
      ]
    },
    {
      "cell_type": "code",
      "execution_count": 17,
      "id": "83e81a04",
      "metadata": {},
      "outputs": [
        {
          "name": "stdout",
          "output_type": "stream",
          "text": [
            "________________________________________________________________________________\n",
            "Hola mundo!!\n",
            "________________________________________________________________________________\n"
          ]
        }
      ],
      "source": [
        "print('_' * 80)\n",
        "print(\"Hola mundo!!\")\n",
        "print('_' * 80)"
      ]
    },
    {
      "cell_type": "code",
      "execution_count": 15,
      "id": "c2153069",
      "metadata": {},
      "outputs": [
        {
          "name": "stdout",
          "output_type": "stream",
          "text": [
            "--------------------------------------------------------------------------------\n",
            "Hola mundo!!\n",
            "--------------------------------------------------------------------------------\n"
          ]
        }
      ],
      "source": [
        "print('-' * 80)\n",
        "print(\"Hola mundo!!\")\n",
        "print('-' * 80)"
      ]
    }
  ],
  "metadata": {
    "colab": {
      "provenance": []
    },
    "kernelspec": {
      "display_name": "Python 3",
      "language": "python",
      "name": "python3"
    },
    "language_info": {
      "codemirror_mode": {
        "name": "ipython",
        "version": 3
      },
      "file_extension": ".py",
      "mimetype": "text/x-python",
      "name": "python",
      "nbconvert_exporter": "python",
      "pygments_lexer": "ipython3",
      "version": "3.10.11"
    }
  },
  "nbformat": 4,
  "nbformat_minor": 5
}
