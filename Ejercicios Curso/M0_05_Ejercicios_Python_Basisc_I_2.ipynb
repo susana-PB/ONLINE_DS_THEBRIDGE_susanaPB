{
  "cells": [
    {
      "cell_type": "markdown",
      "metadata": {
        "id": "GB2K42EgK9q5"
      },
      "source": [
        "![TheBridge_logo_RGB_color.jpg](attachment:TheBridge_logo_RGB_color.jpg)"
      ]
    },
    {
      "cell_type": "markdown",
      "metadata": {
        "id": "GnwVlO37K9q6"
      },
      "source": [
        "![imagen](./img/ejercicios.png)"
      ]
    },
    {
      "cell_type": "markdown",
      "metadata": {
        "id": "_9pTa0PXK9q6"
      },
      "source": [
        "## EJERCICIOS PYTHON BASICO 2:\n",
        "## Tipos y conversión de tipos"
      ]
    },
    {
      "cell_type": "markdown",
      "metadata": {
        "id": "tYmV-veoK9q6"
      },
      "source": [
        "Completa los siguiente ejercicios, la solución a los mismos se publicarán en el repo del curso a lo largo del sprint"
      ]
    },
    {
      "cell_type": "markdown",
      "metadata": {
        "id": "YAdFbIOXK9q7"
      },
      "source": [
        "![ejercicio.png](./img/ejercicio.png)\n",
        "\n",
        "## Ejercicio 1\n",
        "\n",
        "1. Crea dos variables numericas: un `int` y un `float`\n",
        "2. Comprueba sus tipos\n",
        "3. Sumalas en otra nueva\n",
        "4. ¿De qué tipo es la nueva variable?\n",
        "5. Elimina las dos primeras variables creadas"
      ]
    },
    {
      "cell_type": "code",
      "execution_count": 9,
      "metadata": {
        "id": "8QZmuLOsK9q7"
      },
      "outputs": [],
      "source": [
        "# Crear variables numéricas\n",
        "variable_entero = 26\n",
        "variable_real = 26.66"
      ]
    },
    {
      "cell_type": "code",
      "execution_count": 10,
      "metadata": {},
      "outputs": [
        {
          "name": "stdout",
          "output_type": "stream",
          "text": [
            "<class 'int'>\n",
            "<class 'float'>\n"
          ]
        }
      ],
      "source": [
        "# Comprobar sus tipos\n",
        "print(type(variable_entero))\n",
        "print(type(variable_real))\n"
      ]
    },
    {
      "cell_type": "code",
      "execution_count": 12,
      "metadata": {},
      "outputs": [
        {
          "name": "stdout",
          "output_type": "stream",
          "text": [
            "52.66\n"
          ]
        }
      ],
      "source": [
        "# Suma de las variables\n",
        "suma_entero_real = variable_entero + variable_real\n",
        "print(suma_entero_real)"
      ]
    },
    {
      "cell_type": "code",
      "execution_count": 13,
      "metadata": {},
      "outputs": [
        {
          "name": "stdout",
          "output_type": "stream",
          "text": [
            "<class 'float'>\n"
          ]
        }
      ],
      "source": [
        "# Tipo de nueva variable\n",
        "print(type(suma_entero_real))"
      ]
    },
    {
      "cell_type": "code",
      "execution_count": 16,
      "metadata": {},
      "outputs": [
        {
          "ename": "NameError",
          "evalue": "name 'variable_entero' is not defined",
          "output_type": "error",
          "traceback": [
            "\u001b[1;31m---------------------------------------------------------------------------\u001b[0m",
            "\u001b[1;31mNameError\u001b[0m                                 Traceback (most recent call last)",
            "Cell \u001b[1;32mIn[16], line 2\u001b[0m\n\u001b[0;32m      1\u001b[0m \u001b[38;5;66;03m# Eliminar las variables\u001b[39;00m\n\u001b[1;32m----> 2\u001b[0m \u001b[38;5;28;01mdel\u001b[39;00m(variable_entero)\n\u001b[0;32m      3\u001b[0m \u001b[38;5;28;01mdel\u001b[39;00m(variable_real)\n\u001b[0;32m      5\u001b[0m \u001b[38;5;28mprint\u001b[39m(variable_entero)\n",
            "\u001b[1;31mNameError\u001b[0m: name 'variable_entero' is not defined"
          ]
        }
      ],
      "source": [
        "# Eliminar las variables\n",
        "del(variable_entero)\n",
        "del(variable_real)\n",
        "\n",
        "print(variable_entero)"
      ]
    },
    {
      "cell_type": "markdown",
      "metadata": {
        "id": "f5xfpkpQK9q7"
      },
      "source": [
        "![ejercicio.png](./img/ejercicio.png)\n",
        "\n",
        "## Ejercicio 2\n",
        "Escribe un programa para pasar de grados a radianes. Hay que usar `input`. Recuerda que la conversión se realiza mediante\n",
        "\n",
        "radianes = grados*(pi/180)"
      ]
    },
    {
      "cell_type": "code",
      "execution_count": null,
      "metadata": {
        "id": "V50TUQMzK9q7"
      },
      "outputs": [
        {
          "name": "stdout",
          "output_type": "stream",
          "text": [
            "Gracias, la conversion del dato proporcionado (25°C), nos devuelve 0.436 radianes. Hasta pronto! 👋\n"
          ]
        }
      ],
      "source": [
        "# Calculando conversión grados --> radianes\n",
        "grados = input(\"Kaixo! he creado un programa para convertir grados a radianes. ¿Cuantos grados quieres que convierta? \")\n",
        "radianes = float(grados) * (3.1416/180)\n",
        "radianes = round(radianes, 3)\n",
        "print(f\"Gracias, la conversion del dato proporcionado ({grados}°C), nos devuelve {radianes} radianes. Hasta pronto! 👋\")"
      ]
    },
    {
      "cell_type": "markdown",
      "metadata": {
        "id": "zX3-p58CK9q7"
      },
      "source": [
        "![ejercicio.png](./img/ejercicio.png)\n",
        "\n",
        "## Ejercicio 3\n",
        "Escribe un programa que calcule el area de un paralelogramo (base x altura). También con `input`"
      ]
    },
    {
      "cell_type": "code",
      "execution_count": 43,
      "metadata": {
        "id": "s2QfNiBAK9q7"
      },
      "outputs": [
        {
          "name": "stdout",
          "output_type": "stream",
          "text": [
            "2.8\n",
            "3.6\n",
            "10.08\n"
          ]
        }
      ],
      "source": [
        "# Calculando area de un paralelogramo\n",
        "base = input(\"Kaixo! te voy a ayudar a calcular el área de tu paralalogramo. ¿Qué base tiene? Recuerda decirmelo en centímetros (cm) \")\n",
        "print(base)\n",
        "altura = input(\"Genial, ahora necesito que me digas la altura. Este dato también lo necesito en centímetros (cm) \")\n",
        "print(altura)\n",
        "area = float(base) * float(altura)\n",
        "area = round(area, 4)\n",
        "print(area)\n",
        "resultado = input(f\"Aquí tienes el resultado --> el área de un paralelogramo de {base} cm de base y {altura} cm de altura es {area}\")\n"
      ]
    },
    {
      "cell_type": "markdown",
      "metadata": {
        "id": "-6TBo_HvK9q8"
      },
      "source": [
        "![ejercicio.png](./img/ejercicio.png)\n",
        "\n",
        "## Ejercicio 4\n",
        "Escribe un programa que calcule el area de un paralelogramo (base x altura). También con `input`. En este caso debe ser capaz de admitir valores reales, con decimales, para base y altura en español. (PISTA: Recuerda que tendrás que hacer uso del método replace)"
      ]
    },
    {
      "cell_type": "code",
      "execution_count": 48,
      "metadata": {
        "id": "uzUIa1JqK9q8"
      },
      "outputs": [
        {
          "name": "stdout",
          "output_type": "stream",
          "text": [
            "2.8\n",
            "3.6\n",
            "10.08\n"
          ]
        }
      ],
      "source": [
        "# Calculando area de un paralelogramo que admita valores reales en español\n",
        "base = input(\"Kaixo! te voy a ayudar a calcular el área de tu paralalogramo. ¿Qué base tiene? Recuerda decirmelo en centímetros (cm) \")\n",
        "print(base)\n",
        "base_float =float(base.replace(',', '.'))\n",
        "altura_float =float(altura.replace(',', '.'))\n",
        "altura = input(\"Genial, ahora necesito que me digas la altura. Este dato también lo necesito en centímetros (cm) \")\n",
        "print(altura)\n",
        "area = base_float * altura_float\n",
        "print(area)\n",
        "resultado = input(f\"Aquí tienes el resultado --> el área de un paralelogramo de {base} cm de base y {altura} cm de altura es {area}\")"
      ]
    },
    {
      "cell_type": "markdown",
      "metadata": {
        "id": "5zKugi5iK9q8"
      },
      "source": [
        "![ejercicio.png](./img/ejercicio.png)\n",
        "\n",
        "## Ejercicio 5\n",
        "Complete el siguiente código para solicitar al usuario su nombre y su edad. Luego, calcule en qué año nació el usuario y muestre el resultado."
      ]
    },
    {
      "cell_type": "code",
      "execution_count": 50,
      "metadata": {
        "id": "LISfTnRkK9q8"
      },
      "outputs": [
        {
          "name": "stdout",
          "output_type": "stream",
          "text": [
            "Susana, naciste en el año 1977.\n"
          ]
        }
      ],
      "source": [
        "nombre = input(\"¿Cuál es tu nombre? \")\n",
        "edad = (input(\"¿Cuál es tu edad? \"))\n",
        "año_actual = 2025  # Puedes cambiarlo según el año en curso\n",
        "año_nacimiento = año_actual - int(edad)\n",
        "print(f\"{nombre}, naciste en el año {año_nacimiento}.\")\n"
      ]
    }
  ],
  "metadata": {
    "colab": {
      "provenance": []
    },
    "kernelspec": {
      "display_name": "Python 3",
      "language": "python",
      "name": "python3"
    },
    "language_info": {
      "codemirror_mode": {
        "name": "ipython",
        "version": 3
      },
      "file_extension": ".py",
      "mimetype": "text/x-python",
      "name": "python",
      "nbconvert_exporter": "python",
      "pygments_lexer": "ipython3",
      "version": "3.10.11"
    },
    "orig_nbformat": 4
  },
  "nbformat": 4,
  "nbformat_minor": 0
}
