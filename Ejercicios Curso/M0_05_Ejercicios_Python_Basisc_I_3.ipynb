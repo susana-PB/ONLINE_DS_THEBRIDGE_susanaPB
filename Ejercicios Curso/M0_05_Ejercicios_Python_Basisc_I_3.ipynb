{
  "cells": [
    {
      "cell_type": "markdown",
      "metadata": {
        "id": "4JTHcU4MyvmD"
      },
      "source": [
        "![TheBridge_logo_RGB_color.jpg](attachment:TheBridge_logo_RGB_color.jpg)"
      ]
    },
    {
      "cell_type": "markdown",
      "metadata": {
        "id": "WbTHd0zhyvmL"
      },
      "source": [
        "![imagen](./img/ejercicios.png)"
      ]
    },
    {
      "cell_type": "markdown",
      "metadata": {
        "id": "DbNOHNAqyvmN"
      },
      "source": [
        "## EJERCICIOS PYTHON BASICO 3:\n",
        "## Operaciones matemáticas, comparación y booleanas"
      ]
    },
    {
      "cell_type": "markdown",
      "metadata": {
        "id": "9Zn03BT1yvmO"
      },
      "source": [
        "Completa los siguiente ejercicios, la solución completa a los mismos se publicarán en el repo del curso a lo largo del sprint. En algunos ejercicios se muestra la solución final, para que puedas comprobar que lo has hecho bien, pero lo importante es el código que generes. ¡Vaaamos, a ello...!"
      ]
    },
    {
      "cell_type": "markdown",
      "metadata": {
        "id": "h6gl5arcyvmQ"
      },
      "source": [
        "![ejercicio.png](./img/ejercicio.png)\n",
        "\n",
        "\n",
        "## Ejercicio 1\n",
        "Tenemos las siguientes variables:\n",
        "\n",
        "```Python\n",
        "A = 4\n",
        "B = \"Text\"\n",
        "C = 4.1\n",
        "```\n",
        "\n",
        "Comprueba:\n",
        "1. Si A y B son equivalentes\n",
        "2. Si A y C NO son equivalentes\n",
        "3. Si A es mayor que C\n",
        "4. Si C es menor o igual que A\n",
        "5. Si B NO es equivalente a C"
      ]
    },
    {
      "cell_type": "code",
      "execution_count": 3,
      "metadata": {},
      "outputs": [
        {
          "data": {
            "text/plain": [
              "False"
            ]
          },
          "execution_count": 3,
          "metadata": {},
          "output_type": "execute_result"
        }
      ],
      "source": [
        "# Comprobación 1_A y B son equivalentes\n",
        "A = 4\n",
        "B = \"Text\"\n",
        "A == B"
      ]
    },
    {
      "cell_type": "code",
      "execution_count": 5,
      "metadata": {},
      "outputs": [
        {
          "data": {
            "text/plain": [
              "True"
            ]
          },
          "execution_count": 5,
          "metadata": {},
          "output_type": "execute_result"
        }
      ],
      "source": [
        "# Comprobación 2_A y C NO son equivalentes\n",
        "C = 4.1\n",
        "A != C"
      ]
    },
    {
      "cell_type": "code",
      "execution_count": 6,
      "metadata": {},
      "outputs": [
        {
          "data": {
            "text/plain": [
              "False"
            ]
          },
          "execution_count": 6,
          "metadata": {},
          "output_type": "execute_result"
        }
      ],
      "source": [
        "# Comprobación 3_A es mayor que C\n",
        "A > C"
      ]
    },
    {
      "cell_type": "code",
      "execution_count": 7,
      "metadata": {
        "id": "O74OIyl5yvmR",
        "outputId": "fd8154a6-4040-44b6-8696-9ef4dc86c8f1"
      },
      "outputs": [
        {
          "data": {
            "text/plain": [
              "False"
            ]
          },
          "execution_count": 7,
          "metadata": {},
          "output_type": "execute_result"
        }
      ],
      "source": [
        "# Comprobación 4_C es menor o igual que A\n",
        "C <= A"
      ]
    },
    {
      "cell_type": "code",
      "execution_count": 9,
      "metadata": {},
      "outputs": [
        {
          "data": {
            "text/plain": [
              "True"
            ]
          },
          "execution_count": 9,
          "metadata": {},
          "output_type": "execute_result"
        }
      ],
      "source": [
        "# Comprobación 5_B NO es equivalente a C\n",
        "B != C"
      ]
    },
    {
      "cell_type": "markdown",
      "metadata": {
        "id": "7Y3YJzK0yvmT"
      },
      "source": [
        "![ejercicio.png](./img/ejercicio.png)\n",
        "\n",
        "## Ejercicio 2\n",
        "Crea un programa donde se recojan dos inputs del usuario, y el output del programa sea si esos inputs son iguales o no"
      ]
    },
    {
      "cell_type": "code",
      "execution_count": 18,
      "metadata": {
        "id": "yINzfOUkyvmW"
      },
      "outputs": [
        {
          "name": "stdout",
          "output_type": "stream",
          "text": [
            "SUSANA\n",
            "SUSANA\n",
            "Los nombres SI son iguales\n"
          ]
        }
      ],
      "source": [
        "nombre = input(\"Hola! ¿Cómo te llamas? \")\n",
        "print(nombre)\n",
        "nombre_madre = input(f\"Genial, {nombre}. ¿Y, cómo se llama tu madre?\")\n",
        "print(nombre_madre)\n",
        "if nombre == nombre_madre:\n",
        "    print(\"Los nombres SI son iguales\")\n",
        "else:\n",
        "    print(\"Los nombres NO son iguales\")\n"
      ]
    },
    {
      "cell_type": "markdown",
      "metadata": {
        "id": "n8NLIazlyvmW"
      },
      "source": [
        "![ejercicio.png](./img/ejercicio.png)\n",
        "\n",
        "## Ejercicio 3\n",
        "Mismo programa que en 2, pero en esta ocasión tienen que ser tres inputs y dos salidas. Una de las salidas que nos indique si todos son iguales, y la otra si al menos dos inputs sí que lo son"
      ]
    },
    {
      "cell_type": "code",
      "execution_count": 43,
      "metadata": {
        "id": "mj_CIulTyvmY",
        "outputId": "642b8fdf-e696-48dd-86bf-6af0b8bfa700"
      },
      "outputs": [
        {
          "name": "stdout",
          "output_type": "stream",
          "text": [
            "SUSANA\n",
            "PEPA\n",
            "SUSANA\n",
            "No todos los nombres son iguales\n",
            "Al menos dos nombres coinciden\n"
          ]
        }
      ],
      "source": [
        "nombre = input(\"Hola! ¿Cómo te llamas?.\")\n",
        "nombre_mayúscula = nombre.upper()\n",
        "print(nombre_mayúscula)\n",
        "nombre_madre = input(f\"Genial, {nombre}. ¿Y, cómo se llama tu madre?.\")\n",
        "nombre_madre_mayúscula = nombre_madre.upper()\n",
        "print(nombre_madre_mayúscula)\n",
        "nombre_hermana = input(f\"Y, para terminar, ¿Cómo se llama tu hermana? \")\n",
        "nombre_hermana_mayúscula = nombre_hermana.upper()\n",
        "print(nombre_hermana_mayúscula)\n",
        "if nombre_mayúscula == (nombre_madre_mayúscula) == (nombre_hermana_mayúscula):\n",
        "    print(\"Todos los nombres son iguales ❤️ \")\n",
        "else:\n",
        "    print(\"No todos los nombres son iguales\")\n",
        "if nombre == (nombre_madre) or (nombre_hermana):\n",
        "    print(\"Al menos dos nombres coinciden\")\n",
        "else: print(\"No coincide ningún nombre\")"
      ]
    },
    {
      "cell_type": "markdown",
      "metadata": {
        "id": "FN5N8PsSyvmY"
      },
      "source": [
        "![ejercicio.png](./img/ejercicio.png)\n",
        "\n",
        "## Ejercicio 4\n",
        "Razona sin ejecutar código el output que obtendremos de las siguientes sentencias\n",
        "1. True and True and False\n",
        "2. not ((True or False) and (True or False))\n",
        "3. (False or False or False or True) and False\n",
        "4. not False and True and not True"
      ]
    },
    {
      "cell_type": "markdown",
      "metadata": {
        "id": "OepssVBsyvmZ"
      },
      "source": []
    },
    {
      "cell_type": "markdown",
      "metadata": {},
      "source": [
        "AND: Se tienen que cumplir todas las condiciones para que sea un True   \n",
        "OR: Basta que se cumpla al menos una condición para que sea True   \n",
        "NOR o NOT: Lo contrario de lo que haya   \n",
        "👁️ El órden que seguimos es --> Paréntesis > NOT > AND > OR\n",
        "\n",
        "<span style=\"color:blue\">True and True and False</span>   \n",
        "Se tienen que cumplir todas las condiciones para que sea un True.   \n",
        "El resultado es **False**\n",
        "\n",
        "<span style=\"color:blue\">not ((True or False) and (True or False))</span>   \n",
        "La paréntesis da marca la prioridad en la operación.   \n",
        "*True or False* nos da True, por lo que la sentencia quedaría not True and True.    \n",
        "El resultado es **False**.\n",
        "\n",
        "<span style=\"color:blue\">(False or False or False or True) and False</span>   \n",
        "La paréntesis da marca la prioridad en la operación.   \n",
        "*False or False or False or True* nos da True, por lo que la sentencia quedaría True and False.   \n",
        "Se tienen que cumplir todas las condiciones para que sea un True.   \n",
        "El resultado es **False**.\n",
        "\n",
        "<span style=\"color:blue\">not False and True and not True</span>   \n",
        "Primero not\n",
        "Not False se queda en True   \n",
        "Not True se queda en False   \n",
        "Nos queda la sentencia True and False   \n",
        "El resultado es **False**.\n",
        "\n",
        "\n"
      ]
    },
    {
      "cell_type": "markdown",
      "metadata": {},
      "source": []
    },
    {
      "cell_type": "markdown",
      "metadata": {},
      "source": []
    }
  ],
  "metadata": {
    "colab": {
      "provenance": []
    },
    "kernelspec": {
      "display_name": "Python 3",
      "language": "python",
      "name": "python3"
    },
    "language_info": {
      "codemirror_mode": {
        "name": "ipython",
        "version": 3
      },
      "file_extension": ".py",
      "mimetype": "text/x-python",
      "name": "python",
      "nbconvert_exporter": "python",
      "pygments_lexer": "ipython3",
      "version": "3.10.11"
    },
    "orig_nbformat": 4
  },
  "nbformat": 4,
  "nbformat_minor": 0
}
