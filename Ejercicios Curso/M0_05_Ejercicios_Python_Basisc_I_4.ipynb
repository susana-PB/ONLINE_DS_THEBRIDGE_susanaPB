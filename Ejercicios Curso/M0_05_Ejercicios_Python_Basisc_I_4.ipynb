{
  "cells": [
    {
      "cell_type": "markdown",
      "metadata": {
        "id": "qjH7kgckJ1r_"
      },
      "source": [
        "![TheBridge_logo_RGB_color.jpg](attachment:TheBridge_logo_RGB_color.jpg)"
      ]
    },
    {
      "cell_type": "markdown",
      "metadata": {
        "id": "Cz9_ch6EJ1sB"
      },
      "source": [
        "![imagen](./img/ejercicios.png)"
      ]
    },
    {
      "cell_type": "markdown",
      "metadata": {
        "id": "0war-8SBJ1sC"
      },
      "source": [
        "## EJERCICIOS PYTHON BASICO 4:\n",
        "## Funciones, métodos, listas"
      ]
    },
    {
      "cell_type": "markdown",
      "metadata": {
        "id": "hq5zEknVJ1sC"
      },
      "source": [
        "Completa los siguiente ejercicios, la solución completa a los mismos se publicarán en el repo del curso a lo largo del sprint. En algunos ejercicios se muestra la solución final, para que puedas comprobar que lo has hecho bien, pero lo importante es el código que generes. ¡Vaaamos, a ello...!"
      ]
    },
    {
      "cell_type": "markdown",
      "metadata": {
        "id": "USAUq9O6J1sC"
      },
      "source": [
        "![ejercicio.png](./img/ejercicio.png)\n",
        "\n",
        "## Ejercicio 1\n",
        "Para este ejercicio vamos a poner en práctica [las funciones built in](https://docs.python.org/3/library/functions.html).\n",
        "\n",
        "1. Calcula el máximo de la lista: [4, 6, 8, -1]\n",
        "2. Suma todos los elementos de la lista anterior\n",
        "3. Redondea este float a 3 dígitos decimales: 63.451256965\n",
        "4. Valor absoluto de: -74"
      ]
    },
    {
      "cell_type": "code",
      "execution_count": 1,
      "metadata": {
        "id": "uuBzbbV7J1sD"
      },
      "outputs": [
        {
          "name": "stdout",
          "output_type": "stream",
          "text": [
            "8\n"
          ]
        }
      ],
      "source": [
        "# Calcular el máximo de la lista\n",
        "print(max(4,6,8,-1))\n"
      ]
    },
    {
      "cell_type": "code",
      "execution_count": 2,
      "metadata": {},
      "outputs": [
        {
          "name": "stdout",
          "output_type": "stream",
          "text": [
            "17\n"
          ]
        }
      ],
      "source": [
        "# Sumar todos los elemenntos de la lista\n",
        "print(sum([4,6,8,-1]))"
      ]
    },
    {
      "cell_type": "code",
      "execution_count": 3,
      "metadata": {},
      "outputs": [
        {
          "name": "stdout",
          "output_type": "stream",
          "text": [
            "63.451\n"
          ]
        }
      ],
      "source": [
        "# Redondear a 3 dígitos decimales \n",
        "decimal = 63.451256965\n",
        "print(round(decimal,3))"
      ]
    },
    {
      "cell_type": "code",
      "execution_count": 5,
      "metadata": {},
      "outputs": [
        {
          "name": "stdout",
          "output_type": "stream",
          "text": [
            "74\n"
          ]
        }
      ],
      "source": [
        "# Valor absoluto de -74\n",
        "import math\n",
        "print(abs(-74))"
      ]
    },
    {
      "cell_type": "markdown",
      "metadata": {
        "id": "Fkv6GDBxJ1sD"
      },
      "source": [
        "![ejercicio.png](./img/ejercicio.png)\n",
        "\n",
        "## Ejercicio 2\n",
        "Para el siguiente string se pide imprimir por pantalla los siguientes casos\n",
        "\n",
        "    \"En un lugar de la Mancha, de cuyo nombre no quiero acordarme.\"\n",
        "\n",
        "1. Pásalo todo a mayúsculas\n",
        "2. Pásalo todo a minúsculas\n",
        "3. Solo la primera letra de cada palabra en mayúscula, el resto en minúscula\n",
        "4. Crea una lista dividiéndolo por sus espacios\n",
        "5. Sustituye las comas `,` por puntos y comas `;`\n",
        "6. Elimina las `a` minúsculas"
      ]
    },
    {
      "cell_type": "code",
      "execution_count": 29,
      "metadata": {
        "id": "SZf9Ka-KJ1sD",
        "outputId": "e11b04f1-c515-4f8a-f1dc-dae31507f3a5"
      },
      "outputs": [
        {
          "name": "stdout",
          "output_type": "stream",
          "text": [
            "EN UN LUGAR DE LA MANCHA, DE CUYO NOMBRE NO QUIERO ACORDARME.\n",
            "en un lugar de la mancha, de cuyo nombre no quiero acordarme.\n",
            "['En', 'un', 'lugar', 'de', 'la', 'Mancha,', 'de', 'cuyo', 'nombre', 'no', 'quiero', 'acordarme.']\n",
            "En un lugar de la Mancha; de cuyo nombre no quiero acordarme.\n",
            "En un lugr de l Mnch, de cuyo nombre no quiero cordrme.\n"
          ]
        }
      ],
      "source": [
        "# String a mayúsculas\n",
        "cadena = \"En un lugar de la Mancha, de cuyo nombre no quiero acordarme.\"\n",
        "print(string.upper())\n",
        "\n",
        "# String a minúsculas\n",
        "print(cadena.lower())\n",
        "\n",
        "# String a lista dividida por espacios\n",
        "print(list(cadena.split()))\n",
        "\n",
        "# Sustituir , por ;\n",
        "print(cadena.replace(\",\", \";\"))\n",
        "\n",
        "# Eliminar las a minúsculas\n",
        "print(cadena.replace(\"a\",\"\"))\n"
      ]
    },
    {
      "cell_type": "markdown",
      "metadata": {
        "id": "4wY-yCEmJ1sE"
      },
      "source": [
        "![ejercicio.png](./img/ejercicio.png)\n",
        "\n",
        "## Ejercicio 3\n",
        "1. Crea una lista con 3 elementos numéricos\n",
        "2. Añade un cuarto elemento\n",
        "3. Calcula la suma de todos\n",
        "4. Elimina el segundo elemento de la lista\n",
        "5. Añade otro elemento en la posicion 3 de la lista\n",
        "6. Crea otra lista con 4 elementos y concaténala a la que ya tenías.\n",
        "7. Ordena la lista de menor a mayor.\n",
        "8. BONUS: Ordena la lista de mayor a menor.  \n",
        "(*PISTA: Para hacer 8, tendrás que buscar en la información del método...*)  \n",
        "  \n",
        "  \n",
        "NOTA: Pinta por pantalla el resultado de cada paso."
      ]
    },
    {
      "cell_type": "code",
      "execution_count": 116,
      "metadata": {
        "id": "vaFiDK7xJ1sE",
        "outputId": "d3f00ad9-6931-406b-affd-0526c97f2eb3"
      },
      "outputs": [
        {
          "name": "stdout",
          "output_type": "stream",
          "text": [
            "[1, 2, 3, 4]\n",
            "10\n",
            "[1, 3, 4]\n",
            "[1, 3, 4, 5]\n",
            "[1, 3, 4, 5, 'peras', 'manzanas', 'naranjas', 'kiwis']\n",
            "[1, 3, 4, 5, 'kiwis', 'manzanas', 'naranjas', 'peras']\n"
          ]
        }
      ],
      "source": [
        "# Crea una lista con 3 elementos numéricos\n",
        "lista = list(range(1,4))\n",
        "\n",
        "# Añade un cuarto elemento\n",
        "lista.append(4)\n",
        "print(lista)\n",
        "\n",
        "# Calcula la suma de todos\n",
        "print(sum(lista))\n",
        "\n",
        "# Elimina el segundo elemento de la lista\n",
        "lista.remove(2)\n",
        "print(lista)\n",
        "\n",
        "# Añade otro elemento en la posicion 3 de la lista\n",
        "lista.insert(4, 5)\n",
        "print(lista)\n",
        "\n",
        "# Crea otra lista con 4 elementos y concaténala a la que ya tenías.\n",
        "lista_2 = list([\"peras\", \"manzanas\", \"naranjas\", \"kiwis\"])\n",
        "lista_concatenada = lista + lista_2\n",
        "print(lista_concatenada)\n",
        "\n",
        "# Ordena la lista de menor a mayor.\n",
        "print(sorted(lista_concatenada, key=str))\n"
      ]
    },
    {
      "cell_type": "code",
      "execution_count": 122,
      "metadata": {},
      "outputs": [
        {
          "name": "stdout",
          "output_type": "stream",
          "text": [
            "[5, 4, 3, 1]\n",
            "['peras', 'naranjas', 'manzanas', 'kiwis']\n",
            "[5, 4, 3, 1, 'peras', 'naranjas', 'manzanas', 'kiwis']\n"
          ]
        }
      ],
      "source": [
        "# BONUS: Ordena la lista de mayor a menor.  \n",
        "lista_mayor_menor = lista.sort(reverse=True)\n",
        "print(lista)\n",
        "lista_2_mayor_menor = lista_2.sort(reverse=True)\n",
        "print(lista_2)\n",
        "lista_concatenada_mayor_menor = lista + lista_2\n",
        "print(lista_concatenada_mayor_menor)"
      ]
    }
  ],
  "metadata": {
    "colab": {
      "provenance": []
    },
    "kernelspec": {
      "display_name": "Python 3",
      "language": "python",
      "name": "python3"
    },
    "language_info": {
      "codemirror_mode": {
        "name": "ipython",
        "version": 3
      },
      "file_extension": ".py",
      "mimetype": "text/x-python",
      "name": "python",
      "nbconvert_exporter": "python",
      "pygments_lexer": "ipython3",
      "version": "3.10.11"
    },
    "orig_nbformat": 4
  },
  "nbformat": 4,
  "nbformat_minor": 0
}
