{
  "cells": [
    {
      "cell_type": "markdown",
      "metadata": {
        "id": "9l3HMgm6RWxF"
      },
      "source": [
        "![TheBridge_logo_RGB_color.jpg](attachment:TheBridge_logo_RGB_color.jpg)"
      ]
    },
    {
      "cell_type": "markdown",
      "metadata": {
        "id": "RGg9iWpoRWxG"
      },
      "source": [
        "![ejercicios.png](attachment:ejercicios.png)"
      ]
    },
    {
      "cell_type": "markdown",
      "metadata": {
        "id": "AyOlWS2nRWxH"
      },
      "source": [
        "## PRACTICA OBLIGATORIA: COLECCIONES Y FUNCIONES"
      ]
    },
    {
      "cell_type": "markdown",
      "metadata": {
        "id": "6UOgb0KVRWxH"
      },
      "source": [
        "* La práctica obligatoria de esta unidad consiste varios ejercicios de programación libre a completar sobre Colecciones y Funciones. Descarga este notebook en tu ordenador y trabaja en local.  \n",
        "* Recuerda que debes subirla a tu repositorio personal antes de la sesión en vivo para que puntúe adecuadamente y puedas participar en dicha sesión.  \n",
        "* Recuerda también que no es necesario que esté perfecta, sólo es necesario que se vea el esfuerzo.\n",
        "* Esta práctica se resolverá en la sesión en vivo correspondiente y la solución se publicará en el repo del curso."
      ]
    },
    {
      "cell_type": "markdown",
      "metadata": {
        "id": "j3yu-tEjRWxH"
      },
      "source": [
        "### Contenidos"
      ]
    },
    {
      "cell_type": "markdown",
      "metadata": {
        "id": "kO-fLH39RWxH"
      },
      "source": [
        "## Ejercicio 1\n",
        "Eleva todos los elementos de la lista al cuadrado\n",
        "> ```ejer_1 = [1,2,3,4,5]```"
      ]
    },
    {
      "cell_type": "code",
      "execution_count": 166,
      "metadata": {},
      "outputs": [
        {
          "name": "stdout",
          "output_type": "stream",
          "text": [
            "[1, 4, 9, 16, 25]\n"
          ]
        }
      ],
      "source": [
        "ejer_1 = [1,2,3,4,5]\n",
        "al_cuadrado = [x**2 for x in ejer_1]\n",
        "print(al_cuadrado)\n"
      ]
    },
    {
      "cell_type": "markdown",
      "metadata": {
        "id": "kI_Xr5oFRWxI"
      },
      "source": [
        "## Ejercicio 2\n",
        "Haz un programa que detecte todos los duplicados de un elemento en una lista:\n",
        "* Utiliza una variable duplicado para asignarle el valor del elemento del que queremos encontrar todos sus duplicados.\n",
        "* El programa debe devolver todos los índices de los elementos duplicados.\n",
        "* Aplícalo para encontrar los duplicados de \"un\", \"es\" y \"binario\" de:  \n",
        "\n",
        ">```ejer_2 = [\"Un\", \"árbol\", \"binario\", \"es\", \"una\", \"estructura\", \"de\", \"un\", \"tipo\", \"particular\", \"a\", \"veces\", \"no\", \"es\", \"ni\", \"binario\"]```\n"
      ]
    },
    {
      "cell_type": "code",
      "execution_count": 167,
      "metadata": {
        "id": "cLY9WB7YRWxI"
      },
      "outputs": [
        {
          "name": "stdout",
          "output_type": "stream",
          "text": [
            "La palabra 'un' se repite 2 veces\n",
            "La palabra 'es' se repite 2 veces\n",
            "La palabra 'binario' se repite 2 veces\n"
          ]
        }
      ],
      "source": [
        "ejer_2 = [\"Un\", \"árbol\", \"binario\", \"es\", \"una\", \"estructura\", \"de\", \"un\", \"tipo\", \"particular\", \"a\", \"veces\", \"no\", \"es\", \"ni\", \"binario\"]\n",
        "ejer_2_minusculas = [i.lower() for i in ejer_3]\n",
        "for i in set(ejer_2_minusculas):\n",
        "    duplicados = ejer_2_minusculas.count(i)\n",
        "    if duplicados > 1:\n",
        "        print(f\"La palabra '{i}' se repite {duplicados} veces\")\n",
        "\n",
        "    "
      ]
    },
    {
      "cell_type": "markdown",
      "metadata": {
        "id": "3WrBd5QaRWxI"
      },
      "source": [
        "## Ejercicio 3\n",
        "1. ¿Cuántas veces se repite el 3 en la siguiente tupla?\n",
        "2. Crea una tupla nueva con los elementos desde la posicion 5 a la 10.\n",
        "3. ¿Cuántos elementos tiene la tupla `ejer_3`?\n",
        "> ```ejer_3 = (3, 20, 3, 47, 19, 3, 29, 45, 67, 78, 90, 3, 3, 5, 2, 4, 7, 9, 4, 2, 4, 3, 3, 4, 6, 7)```"
      ]
    },
    {
      "cell_type": "code",
      "execution_count": 168,
      "metadata": {
        "id": "bkv_R5LYRWxI"
      },
      "outputs": [
        {
          "name": "stdout",
          "output_type": "stream",
          "text": [
            "7\n",
            "El numero 3 paracere 7 veces en la tupla ejer_9\n"
          ]
        }
      ],
      "source": [
        "# ¿Cuántas veces se repite el 3 en la tupla?\n",
        "ejer_3 = (3, 20, 3, 47, 19, 3, 29, 45, 67, 78, 90, 3, 3, 5, 2, 4, 7, 9, 4, 2, 4, 3, 3, 4, 6, 7)\n",
        "count_3 = ejer_3.count(3)\n",
        "print(count_3)\n",
        "print(f\"El numero 3 paracere {count_3} veces en la tupla ejer_9\")"
      ]
    },
    {
      "cell_type": "code",
      "execution_count": 169,
      "metadata": {},
      "outputs": [
        {
          "name": "stdout",
          "output_type": "stream",
          "text": [
            "(19, 3, 29, 45, 67, 78)\n"
          ]
        }
      ],
      "source": [
        "# Crear tupla nueva con los elementos desde las posición 5 a la 10\n",
        "nueva_tupla = ejer_3[4:10]\n",
        "print(nueva_tupla)\n"
      ]
    },
    {
      "cell_type": "code",
      "execution_count": 170,
      "metadata": {},
      "outputs": [
        {
          "name": "stdout",
          "output_type": "stream",
          "text": [
            "26\n"
          ]
        }
      ],
      "source": [
        "# Contar elementos tupla ejer_3\n",
        "numero_elementos = len(ejer_3)\n",
        "print(numero_elementos)"
      ]
    },
    {
      "cell_type": "markdown",
      "metadata": {
        "id": "6g8Y54AeRWxI"
      },
      "source": [
        "## Ejercicio 4\n",
        "Comprueba si el numero 60 esta en la tupla del ejercicio 3"
      ]
    },
    {
      "cell_type": "code",
      "execution_count": 279,
      "metadata": {
        "id": "F8VTEZonRWxI"
      },
      "outputs": [
        {
          "name": "stdout",
          "output_type": "stream",
          "text": [
            "El numero 60 no está en la tupla\n"
          ]
        }
      ],
      "source": [
        "ejer_3 = (3, 20, 3, 47, 19, 3, 29, 45, 67, 78, 90, 3, 3, 5, 2, 4, 7, 9, 4, 2, 4, 3, 3, 4, 6, 7)\n",
        "a_buscar = 60\n",
        "if a_buscar in ejer_3:\n",
        "    print(f\"El numero {a_buscar} está en la tupla\")\n",
        "else:\n",
        "    print(f\"El numero {a_buscar} no está en la tupla\")"
      ]
    },
    {
      "cell_type": "markdown",
      "metadata": {
        "id": "y0fg-ZA6RWxI"
      },
      "source": [
        "## Ejercicio 5\n",
        "1. Convierte la tupla del ejercicio 3 en una lista\n",
        "2. Convierte la tupla del ejercicio 3 en un set\n",
        "3. Convierte la tupla del ejercicio 3 en un diccionario. Usa también los indices"
      ]
    },
    {
      "cell_type": "code",
      "execution_count": 171,
      "metadata": {
        "id": "_O5hXr01RWxI"
      },
      "outputs": [
        {
          "name": "stdout",
          "output_type": "stream",
          "text": [
            "[3, 20, 3, 47, 19, 3, 29, 45, 67, 78, 90, 3, 3, 5, 2, 4, 7, 9, 4, 2, 4, 3, 3, 4, 6, 7]\n"
          ]
        }
      ],
      "source": [
        "# Convertir tupla en lista\n",
        "lista_tupla = list(ejer_3)\n",
        "print(lista_tupla)"
      ]
    },
    {
      "cell_type": "code",
      "execution_count": 172,
      "metadata": {},
      "outputs": [
        {
          "name": "stdout",
          "output_type": "stream",
          "text": [
            "{2, 3, 67, 5, 4, 7, 6, 9, 45, 78, 47, 19, 20, 90, 29}\n"
          ]
        }
      ],
      "source": [
        "# Convertir tupla en un set\n",
        "set_tupla = set(ejer_3)\n",
        "print(set_tupla)"
      ]
    },
    {
      "cell_type": "code",
      "execution_count": 174,
      "metadata": {},
      "outputs": [
        {
          "name": "stdout",
          "output_type": "stream",
          "text": [
            "{0: 3, 1: 20, 2: 3, 3: 47, 4: 19, 5: 3, 6: 29, 7: 45, 8: 67, 9: 78, 10: 90, 11: 3, 12: 3, 13: 5, 14: 2, 15: 4, 16: 7, 17: 9, 18: 4, 19: 2, 20: 4, 21: 3, 22: 3, 23: 4, 24: 6, 25: 7}\n"
          ]
        }
      ],
      "source": [
        "# Convertir tupla en un diccionario con índices\n",
        "dicc_tupla = dict(enumerate(ejer_3))\n",
        "print(dicc_tupla)"
      ]
    },
    {
      "cell_type": "markdown",
      "metadata": {
        "id": "eOdWWbxvRWxJ"
      },
      "source": [
        "## Ejercicio 6\n",
        "Multiplica todos los valores del diccionario\n",
        "> ```ejer_6 = {1: 11, 2: 22, 3: 33, 4: 44, 5: 55}```"
      ]
    },
    {
      "cell_type": "code",
      "execution_count": 157,
      "metadata": {
        "id": "KcuByovKRWxJ"
      },
      "outputs": [
        {
          "name": "stdout",
          "output_type": "stream",
          "text": [
            "19326120\n"
          ]
        }
      ],
      "source": [
        "ejer_6 = {1: 11, 2: 22, 3: 33, 4: 44, 5: 55}\n",
        "multiplicado = 1\n",
        "\n",
        "for v in ejer_6.values():\n",
        "    multiplicado *= v\n",
        "\n",
        "print(multiplicado)\n"
      ]
    },
    {
      "cell_type": "markdown",
      "metadata": {
        "id": "W7TUSaKRRWxJ"
      },
      "source": [
        "## Ejercicio 7\n",
        "\n",
        "1. Crea un diccionario que describa un libro, con los siguientes campos o claves: \"titulo\",\"autor\",\"idioma original\",\"año de publicación\".\n",
        "2. Crea un a lista, llamada librería.\n",
        "3. Añade cuatro libros a tu elección a la librería."
      ]
    },
    {
      "cell_type": "code",
      "execution_count": 69,
      "metadata": {
        "id": "d-IMRvxRRWxJ"
      },
      "outputs": [
        {
          "name": "stdout",
          "output_type": "stream",
          "text": [
            "{'título': 'En el nombre del padre', 'autor': 'Gerry Conlon', 'idioma original': 'Inglés', 'año de publicación': 1954}\n"
          ]
        }
      ],
      "source": [
        "# Diccionario\n",
        "libro1 = {\"título\":\"En el nombre del padre\", \"autor\":\"Gerry Conlon\",\"idioma original\":\"Inglés\",\"año de publicación\": 1954}\n",
        "print(libro1)"
      ]
    },
    {
      "cell_type": "code",
      "execution_count": 99,
      "metadata": {},
      "outputs": [
        {
          "name": "stdout",
          "output_type": "stream",
          "text": [
            "[]\n"
          ]
        }
      ],
      "source": [
        "# Crear lista llamada librería\n",
        "libreria = []\n",
        "print(libreria)"
      ]
    },
    {
      "cell_type": "code",
      "execution_count": 105,
      "metadata": {},
      "outputs": [
        {
          "name": "stdout",
          "output_type": "stream",
          "text": [
            "\ttitulo: Cien años de soledad\n",
            "\tautor: Gabriel García Márquez\n",
            "\tidioma: Español\n",
            "\taño: 1967\n",
            "\n",
            "\ttitulo: Don Quijote de la Mancha\n",
            "\tautor: Miguel de Cervantes\n",
            "\tidioma: Español\n",
            "\taño: 1605\n",
            "\n",
            "\ttitulo: El Señor de los Anillos\n",
            "\tautor: J.R.R. Tolkien\n",
            "\tidioma: Inglés\n",
            "\taño: 1954\n",
            "\n",
            "\ttitulo: Orgullo y Prejuicio\n",
            "\tautor: obra anónima\n",
            "\tidioma: Inglés\n",
            "\taño: 1813\n",
            "\n"
          ]
        }
      ],
      "source": [
        "# Añadir libros a la librería\n",
        "libreria = [\n",
        "    {\"titulo\": \"Cien años de soledad\", \"autor\": \"Gabriel García Márquez\", \"idioma\": \"Español\", \"año\": 1967},\n",
        "    {\"titulo\": \"Don Quijote de la Mancha\", \"autor\": \"Miguel de Cervantes\", \"idioma\": \"Español\", \"año\": 1605},\n",
        "    {\"titulo\": \"El Señor de los Anillos\", \"autor\": \"J.R.R. Tolkien\", \"idioma\": \"Inglés\", \"año\": 1954},\n",
        "    {\"titulo\": \"Orgullo y Prejuicio\", \"autor\": \"obra anónima\", \"idioma\": \"Inglés\", \"año\": 1813}\n",
        "]\n",
        "\n",
        "for libro in libreria:\n",
        "     print(f\"\\ttitulo: {libro['titulo']}\\n\\tautor: {libro['autor']}\\n\\tidioma: {libro['idioma']}\\n\\taño: {libro['año']}\\n\")"
      ]
    },
    {
      "cell_type": "markdown",
      "metadata": {
        "id": "glMoedjYRWxJ"
      },
      "source": [
        "## Ejercicio 8\n",
        "Modifica los valores del idioma de todos los libros del ejercicio anterior para que sea \"esperanto\"\n"
      ]
    },
    {
      "cell_type": "code",
      "execution_count": 106,
      "metadata": {},
      "outputs": [
        {
          "name": "stdout",
          "output_type": "stream",
          "text": [
            "\ttitulo: Cien años de soledad\n",
            "\tautor: Gabriel García Márquez\n",
            "\tidioma: esperanto\n",
            "\taño: 1967\n",
            "\n",
            "\ttitulo: Don Quijote de la Mancha\n",
            "\tautor: Miguel de Cervantes\n",
            "\tidioma: esperanto\n",
            "\taño: 1605\n",
            "\n",
            "\ttitulo: El Señor de los Anillos\n",
            "\tautor: J.R.R. Tolkien\n",
            "\tidioma: esperanto\n",
            "\taño: 1954\n",
            "\n",
            "\ttitulo: Orgullo y Prejuicio\n",
            "\tautor: obra anónima\n",
            "\tidioma: esperanto\n",
            "\taño: 1813\n",
            "\n"
          ]
        }
      ],
      "source": [
        "for libro in libreria:\n",
        "    libro[\"idioma\"] = \"esperanto\"\n",
        "    print(f\"\\ttitulo: {libro['titulo']}\\n\\tautor: {libro['autor']}\\n\\tidioma: {libro['idioma']}\\n\\taño: {libro['año']}\\n\")"
      ]
    },
    {
      "cell_type": "markdown",
      "metadata": {
        "id": "DRCJG04KRWxJ"
      },
      "source": [
        "## Ejercicio 9\n",
        "1. Escribe un programa que dada una variable titulo busque los libros que hay en la librería con ese título. Si no se encuentra debe devolver el mensaje `Ese no lo tengo, ¿mola?`\n",
        "2. Pruena que el programa con uno de tus libros y con otro que no contenga tu librería."
      ]
    },
    {
      "cell_type": "code",
      "execution_count": null,
      "metadata": {},
      "outputs": [],
      "source": []
    },
    {
      "cell_type": "markdown",
      "metadata": {
        "id": "17YOpYuFRWxJ"
      },
      "source": [
        "## Ejercicio 10\n",
        "Convierte el programa del ejercicio 2 en una función al que se le pase el valor a buscar como un argumento posicional"
      ]
    },
    {
      "cell_type": "code",
      "execution_count": null,
      "metadata": {
        "id": "xbj0LgvnRWxJ"
      },
      "outputs": [],
      "source": []
    },
    {
      "cell_type": "markdown",
      "metadata": {
        "id": "xZ-sWJxPRWxJ"
      },
      "source": [
        "## Ejercicio 11\n",
        "Convierte el programa del ejercicio 9 en una función al que se le pasen como argumentos la librería, posicional, y el título, argumento keyword con valor \"ninguno\", por defecto."
      ]
    },
    {
      "cell_type": "code",
      "execution_count": null,
      "metadata": {
        "id": "4-JrsMdNRWxK"
      },
      "outputs": [],
      "source": []
    },
    {
      "cell_type": "markdown",
      "metadata": {
        "id": "FtJir95QRWxK"
      },
      "source": [
        "## Ejercicio 12\n",
        "Solicitar al usuario que ingrese su dirección email. Imprimir un mensaje indicando si la dirección es válida o no, valiéndose de una función para decidirlo. Una dirección se considerará válida si contiene el símbolo \"@\"."
      ]
    },
    {
      "cell_type": "code",
      "execution_count": 159,
      "metadata": {
        "id": "sk852IZ8RWxK"
      },
      "outputs": [
        {
          "name": "stdout",
          "output_type": "stream",
          "text": [
            "nombre@gmail.com\n",
            "¡Gracias! la dirección es válida\n"
          ]
        }
      ],
      "source": [
        "def revisar_email(email):\n",
        "    return \"@\" in email\n",
        "\n",
        "email = input(\"Hola, por favor escribe tu dirección de email\")\n",
        "print(email)\n",
        "\n",
        "if revisar_email(email):\n",
        "    print(\"¡Gracias! la dirección es válida\")\n",
        "else:\n",
        "    print(\"Parece que hay un error, el email debe contener una @\")\n",
        "\n"
      ]
    },
    {
      "cell_type": "markdown",
      "metadata": {
        "id": "Kw1MWBwBRWxK"
      },
      "source": [
        "## Ejercicio 13\n",
        "Escribe una función que compruebe si un DNI es válido, devolviendo `True` en caso afirmativo.  \n",
        "En primer lugar, el DNI debe tener entre 7 y 8 dígitos numéricos.  \n",
        "Para saber si la letra del DNI es correcta puedes utilizar el siguiente fragmento de código:\n",
        ">```Python\n",
        ">DNI= 55555555\n",
        ">palabra='TRWAGMYFPDXBNJZSQVHLCKE'\n",
        ">print('La letra del DNI es: ', palabra[DNI%23])\n",
        ">````\n"
      ]
    },
    {
      "cell_type": "code",
      "execution_count": 158,
      "metadata": {},
      "outputs": [
        {
          "name": "stdout",
          "output_type": "stream",
          "text": [
            "True\n",
            "False\n"
          ]
        }
      ],
      "source": [
        "\n",
        "#Comprobar el numero de dígitos\n",
        "def comprobar_DNI(DNI_con_letra):\n",
        "    if len(DNI_con_letra) < 8 or len (DNI_con_letra) > 9:\n",
        "        return False\n",
        "    \n",
        "    # Todos los números excepto la letra \n",
        "    numero_str = DNI_con_letra[:-1]\n",
        "    # La última letra en mayúscula\n",
        "    letra = DNI_con_letra[-1].upper()\n",
        "\n",
        "    # Si no es un número válido isdigit comprueba si todos son dígitos\n",
        "    if not numero_str.isdigit():\n",
        "        return False\n",
        "  \n",
        "    numero = int(numero_str)\n",
        "\n",
        "    palabra='TRWAGMYFPDXBNJZSQVHLCKE'\n",
        "    letra_correcta = palabra[numero %23]\n",
        "\n",
        "    return letra == letra_correcta\n",
        "\n",
        "print(comprobar_DNI(\"30678097F\"))\n",
        "print(comprobar_DNI(\"2036111100000\"))"
      ]
    },
    {
      "cell_type": "code",
      "execution_count": null,
      "metadata": {},
      "outputs": [],
      "source": []
    }
  ],
  "metadata": {
    "colab": {
      "provenance": []
    },
    "kernelspec": {
      "display_name": "Python 3",
      "language": "python",
      "name": "python3"
    },
    "language_info": {
      "codemirror_mode": {
        "name": "ipython",
        "version": 3
      },
      "file_extension": ".py",
      "mimetype": "text/x-python",
      "name": "python",
      "nbconvert_exporter": "python",
      "pygments_lexer": "ipython3",
      "version": "3.10.11"
    },
    "orig_nbformat": 4
  },
  "nbformat": 4,
  "nbformat_minor": 0
}
