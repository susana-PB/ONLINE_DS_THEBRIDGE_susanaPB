{
  "cells": [
    {
      "cell_type": "markdown",
      "metadata": {
        "id": "vigJnuAMSU4x"
      },
      "source": [
        "![TheBridge_logo_RGB_color.jpg](attachment:TheBridge_logo_RGB_color.jpg)"
      ]
    },
    {
      "cell_type": "markdown",
      "metadata": {
        "id": "2xmnwM17SU4y"
      },
      "source": [
        "![ejercicios.png](attachment:ejercicios.png)"
      ]
    },
    {
      "cell_type": "markdown",
      "metadata": {
        "id": "liorA-1ZSU4y"
      },
      "source": [
        "# Ejercicios Clases y Objetos"
      ]
    },
    {
      "cell_type": "markdown",
      "metadata": {
        "id": "5xXUz5l9SU4z"
      },
      "source": [
        "## Ejercicio 1\n",
        "Somos una empresa que tiene varias tiendas de electrodomesticos. Necesitamos un programa para manejar las tiendas, ver las ventas que han tenido, cuántos empleados hay, etc... Para ello vamos a modelizar la tienda en una clase, que tendrá las siguientes características:\n",
        "* Nombre clase: \"Tienda\"\n",
        "* Atributos comunes:\n",
        "    * Tipo: \"Electrodomésticos\"\n",
        "    * Abierta: True\n",
        "* Atributos propios de cada tienda:\n",
        "    * Nombre - String\n",
        "    * Dirección - String\n",
        "    * Número de empleados - int\n",
        "    * Ventas ultimos 3 meses - Lista de 3 numeros\n",
        "* Método para calcular las ventas de todos los meses, que devuelva un numero con todas las ventas.\n",
        "* Método que calcula la media de ventas de los ultimos meses, por empleado\n",
        "* Método que devuelve en un string el nombre de la tienda, junto con su dirección.\n",
        "* Método que obtiene las ventas del último mes.\n",
        "* Método para dar una proyección de las ventas en caso de haber invertido X dinero en marketing en esa tienda. Siendo X el parámetro de entrada. Si X es menor de 1000, las ventas de los ultimos 3 meses hubiesen sido de (1.2 x ventas), si es mayor o igual de 1000, las ventas hubiesen sido de (1.5 x venta). El método reescribe el atributo de ventas en los últimos 3 meses, y además devuelve las ventas con el aumento.\n",
        "\n",
        "Se pide:\n",
        "1. Implementar la clase \"Tienda\"\n",
        "2. Crear tres tiendas con datos inventados\n",
        "3. Comprueba en al menos una de ellas, todo lo implementado en la clase tienda (sus atributos, media de ventas, ventas/empleado...)\n",
        "3. Calcular las ventas del último mes de todas las tiendas. Para ello usa el bucle `for`\n",
        "4. Imprime por pantalla los nombres de las tiendas cuya dirección lleve el string \"Avenida\"\n",
        "5. Seguro que ya has hecho este apartado... Documenta la clase :)"
      ]
    },
    {
      "cell_type": "code",
      "execution_count": 96,
      "metadata": {},
      "outputs": [],
      "source": [
        "# Tienda con atributos comunes\n",
        "class Tienda:\n",
        "    tipo_tienda = \"Electrodomésticos\"\n",
        "    abierto = True\n",
        "    pass"
      ]
    },
    {
      "cell_type": "code",
      "execution_count": 97,
      "metadata": {},
      "outputs": [],
      "source": [
        "# Tienda con atributos propios\n",
        "class Tienda:\n",
        "    def __init__(self,nombre_tienda,direccion_tienda,numero_empleados,ventas_meses):\n",
        "        self.nombre = str(nombre_tienda)\n",
        "        self.direccion = str(direccion_tienda)\n",
        "        self.empleados = int(numero_empleados)\n",
        "        self.ventas= list(ventas_meses)\n"
      ]
    },
    {
      "cell_type": "code",
      "execution_count": 98,
      "metadata": {},
      "outputs": [],
      "source": [
        "# Crear 3 tiendas con datos inventados\n",
        "Eroski = Tienda (\"Eroski\",\"Calle Zabalburu,10\",300, [1000,2000,5000])\n",
        "MediaMarkt = Tienda (\"MediaMarkt\", \"Avenida Lehendakari Aguirre,52\",600,[6000,2000,4000])\n",
        "Carrefour = Tienda (\"Carrefour\", \"Autonomía,45\",5000,[5000,4000,12000])\n"
      ]
    },
    {
      "cell_type": "code",
      "execution_count": 99,
      "metadata": {},
      "outputs": [
        {
          "name": "stdout",
          "output_type": "stream",
          "text": [
            "Eroski Calle Zabalburu,10 300 [1000, 2000, 5000]\n"
          ]
        }
      ],
      "source": [
        "# Comprueba en al menos una de ellas, todo lo implementado en la clase tienda (sus atributos, media de ventas, ventas/empleado...)\n",
        "print(Eroski.nombre, Eroski.direccion, Eroski.empleados,Eroski.ventas)\n"
      ]
    },
    {
      "cell_type": "code",
      "execution_count": 100,
      "metadata": {},
      "outputs": [
        {
          "name": "stdout",
          "output_type": "stream",
          "text": [
            "[1000, 2000, 5000]\n",
            "[6000, 2000, 4000]\n",
            "[5000, 4000, 12000]\n"
          ]
        }
      ],
      "source": [
        "# Calcular las ventas del último mes de todas las tiendas. Para ello usa el bucle `for`\n",
        "def ventas_ultimo_mes(self):\n",
        "    for tienda in tiendas:\n",
        "        ultimo_mes = ventas_meses [-1]\n",
        "    return ultimo_mes\n",
        "\n",
        "print(Eroski.ventas)\n",
        "print(MediaMarkt.ventas)\n",
        "print(Carrefour.ventas)\n"
      ]
    },
    {
      "cell_type": "code",
      "execution_count": 101,
      "metadata": {},
      "outputs": [
        {
          "name": "stdout",
          "output_type": "stream",
          "text": [
            "Avenida Lehendakari Aguirre,52\n"
          ]
        }
      ],
      "source": [
        "# Imprime por pantalla los nombres de las tiendas cuya dirección lleve el string \"Avenida\"\n",
        "direccion = [\"Calle Zabalburu\",\"Avenida Lehendakari Aguirre,52\",\"Autonomía,45\"]\n",
        "for direccion in direccion:\n",
        "    if \"Avenida\" in direccion:\n",
        "        print(direccion)\n",
        "    "
      ]
    },
    {
      "cell_type": "markdown",
      "metadata": {
        "id": "WEBq7EpsSU40"
      },
      "source": [
        "## Ejercicio 2\n",
        "En este ejercicio vamos a implementar una clase *Perro* en Python. La clase tiene las siguientes características:\n",
        "* Cosas que sabemos seguro que tiene un perro\n",
        "    * Tiene 4 patas\n",
        "    * 2 orejas\n",
        "    * 2 ojos\n",
        "    * Una velocidad de 0. Por defecto, el perro está parado\n",
        "* Cuando se inicialice:\n",
        "    * El perro será de una determinada raza\n",
        "    * Por defecto tendrá pelo \"Marrón\", a no ser que se diga lo contrario.\n",
        "    * Por defecto no tendrá dueño, a no ser que se diga lo contrario.\n",
        "    \n",
        "* Dispondrá también de un método llamado andar, que tiene un argumento de entrada (aumento_velocidad). Este valor se le sumará a la velocidad que ya llevaba el perro.\n",
        "* Necesita otro método (parar), donde pondremos la velocidad a 0.\n",
        "* Otro método llamado \"ladrar\", que tendrá un argumento de entrada, y la salida será el siguiente string: \"GUAU!\" + el argumento de entrada.\n",
        "\n",
        "\n",
        "Se pide:\n",
        "* Implementa la clase *Perro*\n",
        "* Crea un objeto de tipo *Perro*, sin dueño\n",
        "* Comprueba que están bien todos sus atributos\n",
        "* Prueba que ande, y comprueba su velocidad\n",
        "* Páralo\n",
        "* Documenta la clase *Perro*"
      ]
    },
    {
      "cell_type": "code",
      "execution_count": 102,
      "metadata": {},
      "outputs": [],
      "source": [
        "# Implementa la clase *Perro*\n",
        "class Perro:\n",
        "    patas = 4\n",
        "    orejas = 2\n",
        "    ojos = 2\n",
        "    velocidad = 0\n",
        "# Cuando se inicialice:\n",
        "    def __init__(self,raza,pelo=\"Marron\", dueño=None):\n",
        "        self.raza = raza\n",
        "        self.pelo = pelo\n",
        "        self.dueño = dueño\n",
        "        self.velocidad_actual = Perro.velocidad\n",
        "# Dispondrá también de un método llamado andar, que tiene un argumento de entrada (aumento_velocidad). Este valor se le sumará a la velocidad que ya llevaba el perro.\n",
        "    def andar(self, aumento_velocidad):\n",
        "        self.velocidad_actual += aumento_velocidad  \n",
        "# Necesita otro método (parar), donde pondremos la velocidad a 0.\n",
        "    def parar(self):\n",
        "        self.velocidad_actual = 0\n",
        "# Otro método llamado \"ladrar\", que tendrá un argumento de entrada, y la salida será el siguiente string: \"GUAU!\" + el argumento de entrada.\n",
        "    def ladrar (self,mensaje):\n",
        "        return \"GUAU!\" + mensaje"
      ]
    },
    {
      "cell_type": "code",
      "execution_count": null,
      "metadata": {},
      "outputs": [],
      "source": []
    },
    {
      "cell_type": "code",
      "execution_count": 103,
      "metadata": {},
      "outputs": [],
      "source": [
        "# Crea un objeto de tipo *Perro*, sin dueño\n",
        "mi_perro = Perro(\"Chow Chow\")"
      ]
    },
    {
      "cell_type": "code",
      "execution_count": 104,
      "metadata": {},
      "outputs": [
        {
          "name": "stdout",
          "output_type": "stream",
          "text": [
            "Chow Chow\n",
            "Marron\n",
            "None\n",
            "0\n"
          ]
        }
      ],
      "source": [
        "# Comprueba que están bien todos sus atributos\n",
        "print(mi_perro.raza)\n",
        "print(mi_perro.pelo)\n",
        "print(mi_perro.dueño)\n",
        "print(mi_perro.velocidad_actual)"
      ]
    },
    {
      "cell_type": "code",
      "execution_count": 105,
      "metadata": {},
      "outputs": [
        {
          "name": "stdout",
          "output_type": "stream",
          "text": [
            "10\n"
          ]
        }
      ],
      "source": [
        "# Prueba que ande, y comprueba su velocidad\n",
        "mi_perro.andar(10)\n",
        "\n",
        "print(mi_perro.velocidad_actual)"
      ]
    },
    {
      "cell_type": "code",
      "execution_count": 106,
      "metadata": {},
      "outputs": [
        {
          "name": "stdout",
          "output_type": "stream",
          "text": [
            "0\n"
          ]
        }
      ],
      "source": [
        "#  Páralo\n",
        "mi_perro.parar()\n",
        "\n",
        "print(mi_perro.velocidad_actual)"
      ]
    },
    {
      "cell_type": "code",
      "execution_count": 109,
      "metadata": {},
      "outputs": [
        {
          "data": {
            "text/plain": [
              "'GUAU!terminé!'"
            ]
          },
          "execution_count": 109,
          "metadata": {},
          "output_type": "execute_result"
        }
      ],
      "source": [
        "mi_perro.ladrar(\"terminé!\")"
      ]
    },
    {
      "cell_type": "code",
      "execution_count": null,
      "metadata": {},
      "outputs": [],
      "source": [
        "# Documenta la clase *Perro*"
      ]
    }
  ],
  "metadata": {
    "colab": {
      "provenance": []
    },
    "kernelspec": {
      "display_name": "Python 3",
      "language": "python",
      "name": "python3"
    },
    "language_info": {
      "codemirror_mode": {
        "name": "ipython",
        "version": 3
      },
      "file_extension": ".py",
      "mimetype": "text/x-python",
      "name": "python",
      "nbconvert_exporter": "python",
      "pygments_lexer": "ipython3",
      "version": "3.10.11"
    }
  },
  "nbformat": 4,
  "nbformat_minor": 0
}
