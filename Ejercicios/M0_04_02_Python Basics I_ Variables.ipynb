{
 "cells": [
  {
   "cell_type": "markdown",
   "metadata": {
    "id": "t9k24ilStE3l"
   },
   "source": [
    "<img src=\"./img/TheBridge_logo_RGB_color.jpg\" width = 250>\n",
    "<img src=\"./img/python.jpg\" width = 250>"
   ]
  },
  {
   "cell_type": "markdown",
   "metadata": {
    "id": "3rV0f2u_tE3q"
   },
   "source": [
    "# Python Basics I: Variables\n",
    "\n",
    "\n",
    "Bienvenido a tu primer asalto con Python. Empezamos nuestra aventura declarando variables.\n",
    "\n",
    "Las variables son una manera de etiquetar y conservar los datos del programa para luego poder emplearlos en diferentes sitios."
   ]
  },
  {
   "cell_type": "markdown",
   "metadata": {
    "id": "MwBP-A48tE3r"
   },
   "source": [
    "## Contenidos"
   ]
  },
  {
   "cell_type": "markdown",
   "metadata": {
    "id": "YxEl7TqRtE3s"
   },
   "source": [
    "* [Variables numéricas\n",
    "](#Variables-numéricas\n",
    ")\n",
    "* [Cadenas de texto\n",
    "](#Cadenas-de-texto\n",
    ")\n",
    "* [Escribir mal el nombre\n",
    "](#Escribir-mal-el-nombre\n",
    ")\n",
    "* [Cerrar bien los strings\n",
    "](#Cerrar-bien-los-strings\n",
    ")\n",
    "* [Prohibido espacios en los nombres de las variables\n",
    "](#Prohibido-espacios-en-los-nombres-de-las-variables\n",
    ")\n",
    "* [Números en el nombre de la variable\n",
    "](#Números-en-el-nombre-de-la-variable\n",
    ")\n",
    "* [Sensible a mayusculas\n",
    "](#Sensible-a-mayusculas\n",
    ")\n",
    "* [Palabras reservadas\n",
    "](#Palabras-reservadas\n",
    ")\n",
    "* [Resumen variables\n",
    "](#Resumen-variables\n",
    ")\n"
   ]
  },
  {
   "cell_type": "markdown",
   "metadata": {
    "id": "cYafgflItE3t"
   },
   "source": [
    "### Variables numéricas\n",
    "[al indice](#Contenidos)\n",
    "\n"
   ]
  },
  {
   "cell_type": "code",
   "execution_count": 26,
   "metadata": {
    "executionInfo": {
     "elapsed": 34,
     "status": "ok",
     "timestamp": 1759742239192,
     "user": {
      "displayName": "Susana",
      "userId": "15024392930049177599"
     },
     "user_tz": -120
    },
    "id": "HYpg_2zzvo_U"
   },
   "outputs": [],
   "source": [
    "ingresos =1000\n",
    "gastos=400"
   ]
  },
  {
   "cell_type": "code",
   "execution_count": 27,
   "metadata": {
    "colab": {
     "base_uri": "https://localhost:8080/"
    },
    "executionInfo": {
     "elapsed": 22,
     "status": "ok",
     "timestamp": 1759742239218,
     "user": {
      "displayName": "Susana",
      "userId": "15024392930049177599"
     },
     "user_tz": -120
    },
    "id": "MtQbDAoPtE3u",
    "outputId": "a04189b1-bf29-4f90-9c00-e6efc8a4f91b"
   },
   "outputs": [
    {
     "name": "stdout",
     "output_type": "stream",
     "text": [
      "[0.76555746 0.17666707 0.3413491  0.63117696 0.59917785 0.62420529\n",
      " 0.90242152 0.65022478 0.21602877 0.23722753]\n"
     ]
    }
   ],
   "source": [
    "# prompt: 10 random numbers using numpy\n",
    "\n",
    "import numpy as npa\n",
    "\n",
    "random_numbers = np.random.rand(10)\n",
    "print(random_numbers)\n"
   ]
  },
  {
   "cell_type": "markdown",
   "metadata": {
    "id": "hQhUdzk5tE3v"
   },
   "source": [
    "**Esto es una asignación**. A la palabra *ingresos*, le asignamos un valor mediante `=`.\n",
    "Si queremos ver el valor de la variable, simplemente escribimos su nombre en una celda."
   ]
  },
  {
   "cell_type": "code",
   "execution_count": 28,
   "metadata": {
    "colab": {
     "base_uri": "https://localhost:8080/"
    },
    "executionInfo": {
     "elapsed": 14,
     "status": "ok",
     "timestamp": 1759742239233,
     "user": {
      "displayName": "Susana",
      "userId": "15024392930049177599"
     },
     "user_tz": -120
    },
    "id": "YEx19cXYtE3v",
    "outputId": "e76b43c7-b302-4721-e44b-f38f985d63ab"
   },
   "outputs": [
    {
     "data": {
      "text/plain": [
       "1000"
      ]
     },
     "execution_count": 28,
     "metadata": {},
     "output_type": "execute_result"
    }
   ],
   "source": [
    "ingresos"
   ]
  },
  {
   "cell_type": "code",
   "execution_count": 29,
   "metadata": {
    "colab": {
     "base_uri": "https://localhost:8080/"
    },
    "executionInfo": {
     "elapsed": 8,
     "status": "ok",
     "timestamp": 1759742239234,
     "user": {
      "displayName": "Susana",
      "userId": "15024392930049177599"
     },
     "user_tz": -120
    },
    "id": "rfE5NpJGtE3w",
    "outputId": "04ee5c78-9c57-4972-b0ff-aeda60a178c6"
   },
   "outputs": [
    {
     "data": {
      "text/plain": [
       "400"
      ]
     },
     "execution_count": 29,
     "metadata": {},
     "output_type": "execute_result"
    }
   ],
   "source": [
    "ingresos\n",
    "gastos"
   ]
  },
  {
   "cell_type": "code",
   "execution_count": 30,
   "metadata": {
    "colab": {
     "base_uri": "https://localhost:8080/"
    },
    "executionInfo": {
     "elapsed": 7,
     "status": "ok",
     "timestamp": 1759742239241,
     "user": {
      "displayName": "Susana",
      "userId": "15024392930049177599"
     },
     "user_tz": -120
    },
    "id": "NVNXRKbhtE3w",
    "outputId": "6f175eab-133b-4fbd-9c9d-c06a61197b36"
   },
   "outputs": [
    {
     "name": "stdout",
     "output_type": "stream",
     "text": [
      "1000\n",
      "400\n"
     ]
    }
   ],
   "source": [
    "print(ingresos)\n",
    "print(gastos)"
   ]
  },
  {
   "cell_type": "code",
   "execution_count": 31,
   "metadata": {
    "executionInfo": {
     "elapsed": 1,
     "status": "ok",
     "timestamp": 1759742239243,
     "user": {
      "displayName": "Susana",
      "userId": "15024392930049177599"
     },
     "user_tz": -120
    },
    "id": "zw12hwr1tE3w"
   },
   "outputs": [],
   "source": [
    "margen=ingresos-gastos"
   ]
  },
  {
   "cell_type": "code",
   "execution_count": 32,
   "metadata": {
    "colab": {
     "base_uri": "https://localhost:8080/"
    },
    "executionInfo": {
     "elapsed": 27,
     "status": "ok",
     "timestamp": 1759742239271,
     "user": {
      "displayName": "Susana",
      "userId": "15024392930049177599"
     },
     "user_tz": -120
    },
    "id": "CwIqfVA7tE3x",
    "outputId": "f67c8f7e-26b9-470e-eab6-5474ad870ea7"
   },
   "outputs": [
    {
     "data": {
      "text/plain": [
       "600"
      ]
     },
     "execution_count": 32,
     "metadata": {},
     "output_type": "execute_result"
    }
   ],
   "source": [
    "margen"
   ]
  },
  {
   "cell_type": "code",
   "execution_count": 33,
   "metadata": {
    "colab": {
     "base_uri": "https://localhost:8080/"
    },
    "executionInfo": {
     "elapsed": 14,
     "status": "ok",
     "timestamp": 1759742239290,
     "user": {
      "displayName": "Susana",
      "userId": "15024392930049177599"
     },
     "user_tz": -120
    },
    "id": "lA_ydwrdtE3x",
    "outputId": "c96caab6-e760-46bd-ab6d-a33c789b3d97"
   },
   "outputs": [
    {
     "name": "stdout",
     "output_type": "stream",
     "text": [
      "600\n"
     ]
    }
   ],
   "source": [
    "print(margen)"
   ]
  },
  {
   "cell_type": "markdown",
   "metadata": {
    "id": "XPdHX1MdtE3y"
   },
   "source": [
    "### Cadenas de texto\n",
    "[al indice](#Contenidos)\n",
    "\n",
    "Las cadenas de texto se declaran con comillas simples o dobles"
   ]
  },
  {
   "cell_type": "code",
   "execution_count": 34,
   "metadata": {
    "executionInfo": {
     "elapsed": 29,
     "status": "ok",
     "timestamp": 1759742239320,
     "user": {
      "displayName": "Susana",
      "userId": "15024392930049177599"
     },
     "user_tz": -120
    },
    "id": "6AvotMWTtE3y"
   },
   "outputs": [],
   "source": [
    "ingresos_text=\"Los ingresos han sido altos\"\n",
    "ingresos_alt='Los ingresos han sido altos'"
   ]
  },
  {
   "cell_type": "code",
   "execution_count": 35,
   "metadata": {
    "colab": {
     "base_uri": "https://localhost:8080/"
    },
    "executionInfo": {
     "elapsed": 18,
     "status": "ok",
     "timestamp": 1759742239321,
     "user": {
      "displayName": "Susana",
      "userId": "15024392930049177599"
     },
     "user_tz": -120
    },
    "id": "a_YQR4rFtE3z",
    "outputId": "1e89652d-8fcc-4a67-e6df-5261e1248e97"
   },
   "outputs": [
    {
     "name": "stdout",
     "output_type": "stream",
     "text": [
      "Los ingresos han sido altos\n",
      "Los ingresos han sido altos\n"
     ]
    }
   ],
   "source": [
    "print(ingresos_text)\n",
    "print(ingresos_alt)"
   ]
  },
  {
   "cell_type": "code",
   "execution_count": 36,
   "metadata": {
    "executionInfo": {
     "elapsed": 9,
     "status": "ok",
     "timestamp": 1759742239361,
     "user": {
      "displayName": "Susana",
      "userId": "15024392930049177599"
     },
     "user_tz": -120
    },
    "id": "ZH8e1YQatE3z"
   },
   "outputs": [],
   "source": [
    "ingresos_text=\"Los 'ingresos' han sido altos\""
   ]
  },
  {
   "cell_type": "code",
   "execution_count": 37,
   "metadata": {
    "colab": {
     "base_uri": "https://localhost:8080/",
     "height": 36
    },
    "executionInfo": {
     "elapsed": 30,
     "status": "ok",
     "timestamp": 1759742239395,
     "user": {
      "displayName": "Susana",
      "userId": "15024392930049177599"
     },
     "user_tz": -120
    },
    "id": "vWfSjgRutE3z",
    "outputId": "eee6cff2-002e-4a16-ef6c-fbdb4dbb609b"
   },
   "outputs": [
    {
     "data": {
      "application/vnd.google.colaboratory.intrinsic+json": {
       "type": "string"
      },
      "text/plain": [
       "\"Los 'ingresos' han sido altos\""
      ]
     },
     "execution_count": 37,
     "metadata": {},
     "output_type": "execute_result"
    }
   ],
   "source": [
    "ingresos_text"
   ]
  },
  {
   "cell_type": "code",
   "execution_count": 38,
   "metadata": {
    "colab": {
     "base_uri": "https://localhost:8080/",
     "height": 106
    },
    "executionInfo": {
     "elapsed": 28,
     "status": "error",
     "timestamp": 1759742239400,
     "user": {
      "displayName": "Susana",
      "userId": "15024392930049177599"
     },
     "user_tz": -120
    },
    "id": "fUtwyXQTxUaa",
    "outputId": "fe388a5c-c106-4afe-b689-e9a3f2604213"
   },
   "outputs": [
    {
     "ename": "SyntaxError",
     "evalue": "invalid syntax (ipython-input-3969662993.py, line 1)",
     "output_type": "error",
     "traceback": [
      "\u001b[0;36m  File \u001b[0;32m\"/tmp/ipython-input-3969662993.py\"\u001b[0;36m, line \u001b[0;32m1\u001b[0m\n\u001b[0;31m    ingresos_text = \"Los \"ingresos\" han sido altos\"\u001b[0m\n\u001b[0m                          ^\u001b[0m\n\u001b[0;31mSyntaxError\u001b[0m\u001b[0;31m:\u001b[0m invalid syntax\n"
     ]
    }
   ],
   "source": [
    "ingresos_text = \"Los \"ingresos\" han sido altos\""
   ]
  },
  {
   "cell_type": "code",
   "execution_count": null,
   "metadata": {
    "executionInfo": {
     "elapsed": 106,
     "status": "aborted",
     "timestamp": 1759742239492,
     "user": {
      "displayName": "Susana",
      "userId": "15024392930049177599"
     },
     "user_tz": -120
    },
    "id": "j91IQgvSx8el"
   },
   "outputs": [],
   "source": [
    "ingresos=1000\n",
    "ingresos = 1000\n",
    "ingresos text = \"Los ingresos han sido altos, pero esto da error\""
   ]
  },
  {
   "cell_type": "markdown",
   "metadata": {
    "id": "RMqQkmCjtE30"
   },
   "source": [
    "Python es un lenguaje dinámico por lo que siempre podremos actualizar los valores de las variables. **Se recomienda usar nombres descriptivos para declarar las variables, pero no excesivamente largos**. Así evitamos sobreescribirlas sin querer.\n",
    "\n",
    "Por otro lado, cuidado con los caracteres ele y uno (`l` vs `1`), así como con cero y o (`0` vs `O`). Se suelen confundir.\n",
    "\n",
    "fatal vs fata1\n",
    "\n",
    "clarO vs clar0\n",
    "\n",
    "Reasignamos valor a gastos"
   ]
  },
  {
   "cell_type": "code",
   "execution_count": null,
   "metadata": {
    "executionInfo": {
     "elapsed": 110,
     "status": "aborted",
     "timestamp": 1759742239497,
     "user": {
      "displayName": "Susana",
      "userId": "15024392930049177599"
     },
     "user_tz": -120
    },
    "id": "NP-5U4aLtE30"
   },
   "outputs": [],
   "source": [
    "gastos = 200"
   ]
  },
  {
   "cell_type": "code",
   "execution_count": null,
   "metadata": {
    "executionInfo": {
     "elapsed": 111,
     "status": "aborted",
     "timestamp": 1759742239500,
     "user": {
      "displayName": "Susana",
      "userId": "15024392930049177599"
     },
     "user_tz": -120
    },
    "id": "1pGee75-tE31"
   },
   "outputs": [],
   "source": [
    "gastos"
   ]
  },
  {
   "cell_type": "markdown",
   "metadata": {
    "id": "xPVtK8jStE31"
   },
   "source": [
    "Ahora la variable gastos vale 200. Si la última línea de una celda es una variable, su valor será el *output* de la celda: 200.\n",
    "\n",
    "Vale, ¿y de qué nos sirve guardar variables?\n",
    "\n",
    "Podremos usar estos datos posteriormente, en otro lugar del programa. Por ejemplo, si ahora en una celda nueva queremos obtener el beneficio, simplemente restamos los nombres de las variables"
   ]
  },
  {
   "cell_type": "code",
   "execution_count": null,
   "metadata": {
    "executionInfo": {
     "elapsed": 113,
     "status": "aborted",
     "timestamp": 1759742239505,
     "user": {
      "displayName": "Susana",
      "userId": "15024392930049177599"
     },
     "user_tz": -120
    },
    "id": "8MHi4eFetE31"
   },
   "outputs": [],
   "source": [
    "gastos = 100"
   ]
  },
  {
   "cell_type": "code",
   "execution_count": null,
   "metadata": {
    "executionInfo": {
     "elapsed": 414,
     "status": "aborted",
     "timestamp": 1759742239509,
     "user": {
      "displayName": "Susana",
      "userId": "15024392930049177599"
     },
     "user_tz": -120
    },
    "id": "4ltH3iPUtE32"
   },
   "outputs": [],
   "source": [
    "beneficios = ingresos - gastos"
   ]
  },
  {
   "cell_type": "code",
   "execution_count": null,
   "metadata": {
    "executionInfo": {
     "elapsed": 408,
     "status": "aborted",
     "timestamp": 1759742239510,
     "user": {
      "displayName": "Susana",
      "userId": "15024392930049177599"
     },
     "user_tz": -120
    },
    "id": "s0pv9LFEy9_3"
   },
   "outputs": [],
   "source": [
    "beneficios"
   ]
  },
  {
   "cell_type": "markdown",
   "metadata": {
    "id": "DB10vsSatE32"
   },
   "source": [
    "<table align=\"left\">\n",
    " <tr><td width=\"80\"><img src=\"img/error.png\" style=\"width:auto;height:auto\"></td>\n",
    "     <td style=\"text-align:left\">\n",
    "         <h3>ERRORES en variables</h3>\n",
    "         \n",
    " </td></tr>\n",
    "</table>"
   ]
  },
  {
   "cell_type": "markdown",
   "metadata": {
    "id": "ZYUauRIatE33"
   },
   "source": [
    "### Escribir mal el nombre\n",
    "[al indice](#Contenidos)\n",
    "\n",
    "Un error típico cuando declaramos variables es **escribir su nombre mal, o llamar despues a la variable de forma errónea**. En tal caso, aparece un `NameError: name 'variable_que_no_existe' is not defined`"
   ]
  },
  {
   "cell_type": "code",
   "execution_count": null,
   "metadata": {
    "executionInfo": {
     "elapsed": 406,
     "status": "aborted",
     "timestamp": 1759742239511,
     "user": {
      "displayName": "Susana",
      "userId": "15024392930049177599"
     },
     "user_tz": -120
    },
    "id": "4ZbzHTYwtE33"
   },
   "outputs": [],
   "source": [
    "gstos"
   ]
  },
  {
   "cell_type": "markdown",
   "metadata": {
    "id": "r2kVKhEutE34"
   },
   "source": [
    "Fíjate que te indica la línea donde se produce el error, el tipo de error (`NameError`), y una breve descripción del error."
   ]
  },
  {
   "cell_type": "markdown",
   "metadata": {
    "id": "ZbioKWXatE35"
   },
   "source": [
    "### Cerrar bien los strings\n",
    "[al indice](#Contenidos)\n",
    "\n",
    "\n",
    "Cuidado tambien cuando definamos una cadena de texto, y se nos olvide cerrarla con sus correspondientes comillas. Nos dará un `SyntaxError: EOL while scanning string literal` (End Of Line)"
   ]
  },
  {
   "cell_type": "code",
   "execution_count": 39,
   "metadata": {
    "colab": {
     "base_uri": "https://localhost:8080/",
     "height": 106
    },
    "executionInfo": {
     "elapsed": 49,
     "status": "error",
     "timestamp": 1759742271199,
     "user": {
      "displayName": "Susana",
      "userId": "15024392930049177599"
     },
     "user_tz": -120
    },
    "id": "EiLxnbnttE35",
    "outputId": "17b31d06-65bc-4e37-c84e-1d5a25e90c58"
   },
   "outputs": [
    {
     "ename": "SyntaxError",
     "evalue": "unterminated string literal (detected at line 1) (ipython-input-90447780.py, line 1)",
     "output_type": "error",
     "traceback": [
      "\u001b[0;36m  File \u001b[0;32m\"/tmp/ipython-input-90447780.py\"\u001b[0;36m, line \u001b[0;32m1\u001b[0m\n\u001b[0;31m    texto = \"Error sin comillas\u001b[0m\n\u001b[0m            ^\u001b[0m\n\u001b[0;31mSyntaxError\u001b[0m\u001b[0;31m:\u001b[0m unterminated string literal (detected at line 1)\n"
     ]
    }
   ],
   "source": [
    "texto = \"Error sin comillas"
   ]
  },
  {
   "cell_type": "code",
   "execution_count": null,
   "metadata": {
    "executionInfo": {
     "elapsed": 434,
     "status": "aborted",
     "timestamp": 1759742239541,
     "user": {
      "displayName": "Susana",
      "userId": "15024392930049177599"
     },
     "user_tz": -120
    },
    "id": "7dTv8vvqtE36"
   },
   "outputs": [],
   "source": []
  },
  {
   "cell_type": "markdown",
   "metadata": {
    "id": "9vdLLFPEtE37"
   },
   "source": [
    "### Prohibido espacios en los nombres de las variables\n",
    "[al indice](#Contenidos)\n",
    "\n",
    "\n",
    "También dará error si tenemos un espacio en la declaración de la variable. Se recomienda mínusculas y guiones bajos para simular los espacios.\n",
    "\n",
    "**Los espacios que encuentres alrededor del igual se pueden usar perfectamente**. Es pura estética a la hora de leer el código."
   ]
  },
  {
   "cell_type": "code",
   "execution_count": null,
   "metadata": {
    "executionInfo": {
     "elapsed": 435,
     "status": "aborted",
     "timestamp": 1759742239542,
     "user": {
      "displayName": "Susana",
      "userId": "15024392930049177599"
     },
     "user_tz": -120
    },
    "id": "WPjckNTMtE38"
   },
   "outputs": [],
   "source": []
  },
  {
   "cell_type": "code",
   "execution_count": null,
   "metadata": {
    "executionInfo": {
     "elapsed": 448,
     "status": "aborted",
     "timestamp": 1759742239555,
     "user": {
      "displayName": "Susana",
      "userId": "15024392930049177599"
     },
     "user_tz": -120
    },
    "id": "_T213ZjhtE38"
   },
   "outputs": [],
   "source": []
  },
  {
   "cell_type": "markdown",
   "metadata": {
    "id": "SQk2oMDztE38"
   },
   "source": [
    "### Números en el nombre de la variable\n",
    "[al indice](#Contenidos)\n",
    "\n",
    "Ojo con los números cuando declaremos variables. En ocasiones es determinante describir nuestra variable con algún número. En tal caso, ponlo siempre al final del nombre de la variable, ya que sino saltará un error."
   ]
  },
  {
   "cell_type": "code",
   "execution_count": 40,
   "metadata": {
    "colab": {
     "base_uri": "https://localhost:8080/",
     "height": 106
    },
    "executionInfo": {
     "elapsed": 14,
     "status": "error",
     "timestamp": 1759742433382,
     "user": {
      "displayName": "Susana",
      "userId": "15024392930049177599"
     },
     "user_tz": -120
    },
    "id": "I5UZ1sQWtE39",
    "outputId": "9c01217d-416a-481c-c6c7-36a229c2af3b"
   },
   "outputs": [
    {
     "ename": "SyntaxError",
     "evalue": "invalid decimal literal (ipython-input-176038607.py, line 1)",
     "output_type": "error",
     "traceback": [
      "\u001b[0;36m  File \u001b[0;32m\"/tmp/ipython-input-176038607.py\"\u001b[0;36m, line \u001b[0;32m1\u001b[0m\n\u001b[0;31m    2009_ingresos\u001b[0m\n\u001b[0m        ^\u001b[0m\n\u001b[0;31mSyntaxError\u001b[0m\u001b[0;31m:\u001b[0m invalid decimal literal\n"
     ]
    }
   ],
   "source": [
    "2009_ingresos"
   ]
  },
  {
   "cell_type": "code",
   "execution_count": 42,
   "metadata": {
    "executionInfo": {
     "elapsed": 8,
     "status": "ok",
     "timestamp": 1759742482404,
     "user": {
      "displayName": "Susana",
      "userId": "15024392930049177599"
     },
     "user_tz": -120
    },
    "id": "FdEhMMn_tE39"
   },
   "outputs": [],
   "source": [
    "ingresos_2009 = 25000"
   ]
  },
  {
   "cell_type": "markdown",
   "metadata": {
    "id": "SFaxnvWctE39"
   },
   "source": [
    "### Sensible a mayusculas\n",
    "[al indice](#Contenidos)\n",
    "\n",
    "\n",
    "Mucho cuidado con las mayusculas y minusculas porque Python no las ignora. Si todas las letras de una variable están en mayusculas, tendremos que usarla en mayusculas, sino dará un error de que no encuentra la variable."
   ]
  },
  {
   "cell_type": "code",
   "execution_count": 43,
   "metadata": {
    "colab": {
     "base_uri": "https://localhost:8080/",
     "height": 141
    },
    "executionInfo": {
     "elapsed": 15,
     "status": "error",
     "timestamp": 1759742613314,
     "user": {
      "displayName": "Susana",
      "userId": "15024392930049177599"
     },
     "user_tz": -120
    },
    "id": "gJyO5-VStE3-",
    "outputId": "830607bf-2d48-4ad0-cd18-6f0279a570bc"
   },
   "outputs": [
    {
     "ename": "NameError",
     "evalue": "name 'Ingresos_2009' is not defined",
     "output_type": "error",
     "traceback": [
      "\u001b[0;31m---------------------------------------------------------------------------\u001b[0m",
      "\u001b[0;31mNameError\u001b[0m                                 Traceback (most recent call last)",
      "\u001b[0;32m/tmp/ipython-input-2105830201.py\u001b[0m in \u001b[0;36m<cell line: 0>\u001b[0;34m()\u001b[0m\n\u001b[0;32m----> 1\u001b[0;31m \u001b[0mprint\u001b[0m\u001b[0;34m(\u001b[0m\u001b[0mIngresos_2009\u001b[0m\u001b[0;34m)\u001b[0m\u001b[0;34m\u001b[0m\u001b[0;34m\u001b[0m\u001b[0m\n\u001b[0m",
      "\u001b[0;31mNameError\u001b[0m: name 'Ingresos_2009' is not defined"
     ]
    }
   ],
   "source": [
    "print(Ingresos_2009)"
   ]
  },
  {
   "cell_type": "code",
   "execution_count": null,
   "metadata": {
    "executionInfo": {
     "elapsed": 449,
     "status": "aborted",
     "timestamp": 1759742239558,
     "user": {
      "displayName": "Susana",
      "userId": "15024392930049177599"
     },
     "user_tz": -120
    },
    "id": "MfCnT548tE3_"
   },
   "outputs": [],
   "source": []
  },
  {
   "cell_type": "markdown",
   "metadata": {
    "id": "dWZypPVKtE3_"
   },
   "source": [
    "### Palabras reservadas\n",
    "[al indice](#Contenidos)\n",
    "\n",
    "\n",
    "En Python, como en otros lenguajes, hay una serie de palabras reservadas que tienen un significado para el intérprete de Python y por lo tanto no podemos usar para ponerle nombre a nuestras variables.\n",
    "\n",
    "Por ejemplo, `def` se usa para definir funciones en Python (lo veremos en otros notebooks), por lo que no podemos emplear `def` para nombrar a nuestras variables"
   ]
  },
  {
   "cell_type": "code",
   "execution_count": 44,
   "metadata": {
    "colab": {
     "base_uri": "https://localhost:8080/",
     "height": 106
    },
    "executionInfo": {
     "elapsed": 63,
     "status": "error",
     "timestamp": 1759742725827,
     "user": {
      "displayName": "Susana",
      "userId": "15024392930049177599"
     },
     "user_tz": -120
    },
    "id": "oGXjiD6gtE4A",
    "outputId": "8ed335b1-b075-49d7-e9dc-21cb042ad24f"
   },
   "outputs": [
    {
     "ename": "SyntaxError",
     "evalue": "invalid syntax (ipython-input-3594483855.py, line 1)",
     "output_type": "error",
     "traceback": [
      "\u001b[0;36m  File \u001b[0;32m\"/tmp/ipython-input-3594483855.py\"\u001b[0;36m, line \u001b[0;32m1\u001b[0m\n\u001b[0;31m    def = 10\u001b[0m\n\u001b[0m        ^\u001b[0m\n\u001b[0;31mSyntaxError\u001b[0m\u001b[0;31m:\u001b[0m invalid syntax\n"
     ]
    }
   ],
   "source": [
    "def = 10"
   ]
  },
  {
   "cell_type": "markdown",
   "metadata": {
    "id": "qoGOB0y0tE4B"
   },
   "source": [
    "Consulta la lista de palabras reservadas de Python"
   ]
  },
  {
   "cell_type": "code",
   "execution_count": 45,
   "metadata": {
    "colab": {
     "base_uri": "https://localhost:8080/"
    },
    "executionInfo": {
     "elapsed": 54,
     "status": "ok",
     "timestamp": 1759743093484,
     "user": {
      "displayName": "Susana",
      "userId": "15024392930049177599"
     },
     "user_tz": -120
    },
    "id": "uOUoeAbvtE4B",
    "outputId": "e52835be-89b4-4fae-b8e8-f5fb28dde943"
   },
   "outputs": [
    {
     "name": "stdout",
     "output_type": "stream",
     "text": [
      "['False', 'None', 'True', 'and', 'as', 'assert', 'async', 'await', 'break', 'class', 'continue', 'def', 'del', 'elif', 'else', 'except', 'finally', 'for', 'from', 'global', 'if', 'import', 'in', 'is', 'lambda', 'nonlocal', 'not', 'or', 'pass', 'raise', 'return', 'try', 'while', 'with', 'yield']\n"
     ]
    }
   ],
   "source": [
    "import keyword\n",
    "print(keyword.kwlist)"
   ]
  },
  {
   "cell_type": "code",
   "execution_count": 46,
   "metadata": {
    "colab": {
     "base_uri": "https://localhost:8080/"
    },
    "executionInfo": {
     "elapsed": 49,
     "status": "ok",
     "timestamp": 1759743225492,
     "user": {
      "displayName": "Susana",
      "userId": "15024392930049177599"
     },
     "user_tz": -120
    },
    "id": "iwNSgwQxtE4C",
    "outputId": "f154ba8b-0c4e-4d12-c489-bac479aef832"
   },
   "outputs": [
    {
     "name": "stdout",
     "output_type": "stream",
     "text": [
      "\n",
      "Here is a list of the Python keywords.  Enter any keyword to get more help.\n",
      "\n",
      "False               class               from                or\n",
      "None                continue            global              pass\n",
      "True                def                 if                  raise\n",
      "and                 del                 import              return\n",
      "as                  elif                in                  try\n",
      "assert              else                is                  while\n",
      "async               except              lambda              with\n",
      "await               finally             nonlocal            yield\n",
      "break               for                 not                 \n",
      "\n"
     ]
    }
   ],
   "source": [
    "help(\"keywords\")"
   ]
  },
  {
   "cell_type": "markdown",
   "metadata": {
    "id": "ruqMFYGotE4C"
   },
   "source": [
    "### Resumen variables\n",
    "[al indice](#Contenidos)\n",
    "\n",
    "\n",
    "En resumen:\n",
    "* Usar minusculas. Sensible a mayusculas/minusculas\n",
    "* No usar espacios\n",
    "* No usar palabras reservadas\n",
    "* No usar numeros al principio de la variable\n",
    "* Cuidado con los caracteres `l`, `1`, `O`, `0`"
   ]
  },
  {
   "cell_type": "code",
   "execution_count": null,
   "metadata": {
    "executionInfo": {
     "elapsed": 452,
     "status": "aborted",
     "timestamp": 1759742239562,
     "user": {
      "displayName": "Susana",
      "userId": "15024392930049177599"
     },
     "user_tz": -120
    },
    "id": "Zl6zXwnCtE4D"
   },
   "outputs": [],
   "source": []
  },
  {
   "cell_type": "code",
   "execution_count": null,
   "metadata": {
    "executionInfo": {
     "elapsed": 454,
     "status": "aborted",
     "timestamp": 1759742239564,
     "user": {
      "displayName": "Susana",
      "userId": "15024392930049177599"
     },
     "user_tz": -120
    },
    "id": "niJSVJ_qtE4D"
   },
   "outputs": [],
   "source": []
  },
  {
   "cell_type": "code",
   "execution_count": null,
   "metadata": {
    "executionInfo": {
     "elapsed": 454,
     "status": "aborted",
     "timestamp": 1759742239565,
     "user": {
      "displayName": "Susana",
      "userId": "15024392930049177599"
     },
     "user_tz": -120
    },
    "id": "PCoKUu9btE4E"
   },
   "outputs": [],
   "source": []
  }
 ],
 "metadata": {
  "colab": {
   "provenance": [
    {
     "file_id": "1p5gt9tYvzREz_ZpB_HUfUoJPRced1hrN",
     "timestamp": 1759740906378
    }
   ]
  },
  "kernelspec": {
   "display_name": "Python 3",
   "language": "python",
   "name": "python3"
  },
  "language_info": {
   "codemirror_mode": {
    "name": "ipython",
    "version": 3
   },
   "file_extension": ".py",
   "mimetype": "text/x-python",
   "name": "python",
   "nbconvert_exporter": "python",
   "pygments_lexer": "ipython3",
   "version": "3.10.11"
  },
  "nbTranslate": {
   "displayLangs": [
    "*"
   ],
   "hotkey": "alt-t",
   "langInMainMenu": true,
   "sourceLang": "en",
   "targetLang": "fr",
   "useGoogleTranslate": true
  },
  "varInspector": {
   "cols": {
    "lenName": 16,
    "lenType": 16,
    "lenVar": 40
   },
   "kernels_config": {
    "python": {
     "delete_cmd_postfix": "",
     "delete_cmd_prefix": "del ",
     "library": "var_list.py",
     "varRefreshCmd": "print(var_dic_list())"
    },
    "r": {
     "delete_cmd_postfix": ") ",
     "delete_cmd_prefix": "rm(",
     "library": "var_list.r",
     "varRefreshCmd": "cat(var_dic_list()) "
    }
   },
   "types_to_exclude": [
    "module",
    "function",
    "builtin_function_or_method",
    "instance",
    "_Feature"
   ],
   "window_display": false
  }
 },
 "nbformat": 4,
 "nbformat_minor": 0
}
