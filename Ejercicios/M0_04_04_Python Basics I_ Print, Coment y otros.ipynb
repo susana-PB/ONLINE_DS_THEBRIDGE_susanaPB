{
 "cells": [
  {
   "cell_type": "markdown",
   "metadata": {
    "id": "0TWx1mQysz71"
   },
   "source": [
    "<img src=\"./img/TheBridge_logo_RGB_color.jpg\" width = 500>\n",
    "<img src=\"./img/python.jpg\" width = 500>"
   ]
  },
  {
   "cell_type": "markdown",
   "metadata": {
    "id": "SJZLx68ysz77"
   },
   "source": [
    "# Python Basics I: Print, Comentarios y otros aspectos básicos\n",
    "\n",
    "En este notebook vamos a profundizar un poquito más en el uso de la función print, además de ver cómo usar los comentarios, la importancia del flujo secuencial de ejecución de python y terminaremos con el uso del comando para liberar memoria, `del`."
   ]
  },
  {
   "cell_type": "markdown",
   "metadata": {
    "id": "yQBSE68Asz7_"
   },
   "source": [
    "## Contenidos"
   ]
  },
  {
   "cell_type": "markdown",
   "metadata": {
    "id": "Ri_YEvIFsz7_"
   },
   "source": [
    "* [Print](#Print)\n",
    "* [Comentarios\n",
    "](#Comentarios\n",
    ")\n",
    "* [Flujos de ejecución\n",
    "](#Flujos-de-ejecución\n",
    ")\n",
    "* [Del\n",
    "](#Del\n",
    ")\n"
   ]
  },
  {
   "cell_type": "markdown",
   "metadata": {
    "id": "Sq7AaR0Ksz8A"
   },
   "source": [
    "## Print[al indice](#Contenidos)\n"
   ]
  },
  {
   "cell_type": "markdown",
   "metadata": {
    "id": "VUDSdhRmsz8B"
   },
   "source": [
    "Hasta ahora hemos visto en Jupyter dos tipos de celdas:\n",
    "* **Markdown**: básicamente texto para las explicaciones\n",
    "* **Código**: donde insertamos el código Python y lo ejecutamos\n",
    "\n",
    "Las celdas de código, no solo corren el código y realizan todas las operaciones que le indiquemos, sino que también tienen un output, una salida de ese código. Tenemos dos opciones para ver el output del código, o bien mediante `print`, o poniendo una variable al final de la celda. En este último caso, veremos el valor de esa variable"
   ]
  },
  {
   "cell_type": "code",
   "execution_count": 5,
   "metadata": {
    "executionInfo": {
     "elapsed": 2,
     "status": "ok",
     "timestamp": 1759744647411,
     "user": {
      "displayName": "Susana",
      "userId": "15024392930049177599"
     },
     "user_tz": -120
    },
    "id": "bClFVzBrsz8F"
   },
   "outputs": [],
   "source": [
    "ingresos = 1000\n",
    "gastos = 100\n",
    "beneficios = ingresos - gastos"
   ]
  },
  {
   "cell_type": "code",
   "execution_count": 6,
   "metadata": {
    "colab": {
     "base_uri": "https://localhost:8080/"
    },
    "executionInfo": {
     "elapsed": 20,
     "status": "ok",
     "timestamp": 1759744647479,
     "user": {
      "displayName": "Susana",
      "userId": "15024392930049177599"
     },
     "user_tz": -120
    },
    "id": "h0oHArOUsz8G",
    "outputId": "ae9cb4d4-1c56-456f-cf00-9f4df5c2057c"
   },
   "outputs": [
    {
     "name": "stdout",
     "output_type": "stream",
     "text": [
      "1000\n",
      "100\n",
      "Los beneficios han sido de:\n",
      "900\n"
     ]
    }
   ],
   "source": [
    "print(ingresos)\n",
    "print(gastos)\n",
    "print(\"Los beneficios han sido de:\")\n",
    "print(beneficios)"
   ]
  },
  {
   "cell_type": "markdown",
   "metadata": {
    "id": "Ztq4hPUGsz8H"
   },
   "source": [
    "[texto del enlace](https://)Si hacemos un print de un texto, podemos concatenar valores de variables mediante `%s`."
   ]
  },
  {
   "cell_type": "code",
   "execution_count": 7,
   "metadata": {
    "colab": {
     "base_uri": "https://localhost:8080/"
    },
    "executionInfo": {
     "elapsed": 7,
     "status": "ok",
     "timestamp": 1759744739873,
     "user": {
      "displayName": "Susana",
      "userId": "15024392930049177599"
     },
     "user_tz": -120
    },
    "id": "9HtC_3Jasz8I",
    "outputId": "17de74ec-ef54-4914-f20a-b28949d39db0"
   },
   "outputs": [
    {
     "name": "stdout",
     "output_type": "stream",
     "text": [
      "Los beneficios de junio han sido 900 millones\n"
     ]
    }
   ],
   "source": [
    "mes = \"junio\"\n",
    "print(\"Los beneficios de %s han sido %s millones\" %(mes,beneficios))"
   ]
  },
  {
   "cell_type": "code",
   "execution_count": null,
   "metadata": {},
   "outputs": [],
   "source": []
  },
  {
   "cell_type": "code",
   "execution_count": 9,
   "metadata": {
    "colab": {
     "base_uri": "https://localhost:8080/"
    },
    "executionInfo": {
     "elapsed": 12,
     "status": "ok",
     "timestamp": 1759744888289,
     "user": {
      "displayName": "Susana",
      "userId": "15024392930049177599"
     },
     "user_tz": -120
    },
    "id": "95e1rrT99_X2",
    "outputId": "56c0cc5a-2fcd-431a-ad60-e9d0f91d2962"
   },
   "outputs": [
    {
     "name": "stdout",
     "output_type": "stream",
     "text": [
      "Los beneficios de 900 han sido junio millones\n"
     ]
    }
   ],
   "source": [
    "print(\"Los beneficios de %s han sido %s millones\" %(beneficios, mes))"
   ]
  },
  {
   "cell_type": "markdown",
   "metadata": {
    "id": "W_OVzYZpsz8J"
   },
   "source": [
    "Otra opcion si queremos imprimir por pantalla varios strings, es separandolos por comas en el `print`. Fíjate que le añade espacios en la salida cada vez que ponemos un valor nuevo entre comas."
   ]
  },
  {
   "cell_type": "code",
   "execution_count": 10,
   "metadata": {
    "colab": {
     "base_uri": "https://localhost:8080/"
    },
    "executionInfo": {
     "elapsed": 18,
     "status": "ok",
     "timestamp": 1759744964297,
     "user": {
      "displayName": "Susana",
      "userId": "15024392930049177599"
     },
     "user_tz": -120
    },
    "id": "e7GTTG7Asz8K",
    "outputId": "35051ce3-07c5-4d5c-f70c-022da3dc98f0"
   },
   "outputs": [
    {
     "name": "stdout",
     "output_type": "stream",
     "text": [
      "Los beneficiosde agosto han sido 900 millones\n"
     ]
    }
   ],
   "source": [
    "mes = \"agosto\"\n",
    "print(\"Los beneficiosde\", mes, \"han sido\", beneficios, \"millones\")"
   ]
  },
  {
   "cell_type": "markdown",
   "metadata": {
    "id": "vdj2DkwVsz8K"
   },
   "source": [
    "## Comentarios\n",
    "[al indice](#Contenidos)\n",
    "Se trata de texto que va junto con el código, y que el intérprete de Python ignora por completo. Muy útil para documentar y explicar el código"
   ]
  },
  {
   "cell_type": "code",
   "execution_count": 11,
   "metadata": {
    "colab": {
     "base_uri": "https://localhost:8080/"
    },
    "executionInfo": {
     "elapsed": 8,
     "status": "ok",
     "timestamp": 1759745286842,
     "user": {
      "displayName": "Susana",
      "userId": "15024392930049177599"
     },
     "user_tz": -120
    },
    "id": "tNN4NXBosz8L",
    "outputId": "9ab30904-df6b-43a7-e465-ffd1e6b597d8"
   },
   "outputs": [
    {
     "name": "stdout",
     "output_type": "stream",
     "text": [
      "Esto sí lo ejecutará\n"
     ]
    }
   ],
   "source": [
    "# Comentario de linea\n",
    "# print(\"Esto lo ignora\")\n",
    "print(\"Esto sí lo ejecutará\")"
   ]
  },
  {
   "cell_type": "code",
   "execution_count": 12,
   "metadata": {
    "colab": {
     "base_uri": "https://localhost:8080/"
    },
    "executionInfo": {
     "elapsed": 9,
     "status": "ok",
     "timestamp": 1759745541869,
     "user": {
      "displayName": "Susana",
      "userId": "15024392930049177599"
     },
     "user_tz": -120
    },
    "id": "xAMl3XMZsz8L",
    "outputId": "e004fee9-bd44-4f82-b273-45bb78432ec6"
   },
   "outputs": [
    {
     "name": "stdout",
     "output_type": "stream",
     "text": [
      "Fin del programa\n"
     ]
    }
   ],
   "source": [
    "print(\"Fin del programa\") # Esta linea indica que hemos terminado"
   ]
  },
  {
   "cell_type": "code",
   "execution_count": 13,
   "metadata": {
    "colab": {
     "base_uri": "https://localhost:8080/"
    },
    "executionInfo": {
     "elapsed": 22,
     "status": "ok",
     "timestamp": 1759745703783,
     "user": {
      "displayName": "Susana",
      "userId": "15024392930049177599"
     },
     "user_tz": -120
    },
    "id": "kLfdySz4sz8M",
    "outputId": "0eb652b1-0574-42be-d567-b9dcae2261b2"
   },
   "outputs": [
    {
     "name": "stdout",
     "output_type": "stream",
     "text": [
      "Este print si se va a ejecutar\n"
     ]
    }
   ],
   "source": [
    "'''\n",
    "Comentario multilinea\n",
    "Puedo usar varias lineas sin tener que repetir el #\n",
    "'''\n",
    "\"\"\"\n",
    "Los comentarios multilineas pueden ir entre comillas dobles, y tampoco se ejecutan o interpretan\n",
    "este print(\"No se va a ejecutar\")\n",
    "\"\"\"\n",
    "print(\"Este print si se va a ejecutar\")"
   ]
  },
  {
   "cell_type": "code",
   "execution_count": 6,
   "metadata": {
    "executionInfo": {
     "elapsed": 1,
     "status": "ok",
     "timestamp": 1759744647491,
     "user": {
      "displayName": "Susana",
      "userId": "15024392930049177599"
     },
     "user_tz": -120
    },
    "id": "mKjNNl9usz8M"
   },
   "outputs": [],
   "source": []
  },
  {
   "cell_type": "markdown",
   "metadata": {
    "id": "YjKKvIcvsz8N"
   },
   "source": [
    "**IMPORTATE**. SIEMPRE comentar el código. Nunca sabes quén lo puede heredar. Te dejo en [este link](https://realpython.com/python-comments-guide/) una guía interesante sobre cómo comentar tu código."
   ]
  },
  {
   "cell_type": "markdown",
   "metadata": {
    "id": "DvY8MqBFsz8P"
   },
   "source": [
    "## Flujos de ejecución\n",
    "[al indice](#Contenidos)\n",
    "Los programas de Python se ejecutan secuencialmente, por lo que el orden en el que escribas las operaciones es determinante"
   ]
  },
  {
   "cell_type": "code",
   "execution_count": 14,
   "metadata": {
    "colab": {
     "base_uri": "https://localhost:8080/",
     "height": 176
    },
    "executionInfo": {
     "elapsed": 32,
     "status": "error",
     "timestamp": 1759745916353,
     "user": {
      "displayName": "Susana",
      "userId": "15024392930049177599"
     },
     "user_tz": -120
    },
    "id": "fQLF5Hi9sz8Q",
    "outputId": "b4ef2d5b-a0c4-438c-8e31-9496996a5064"
   },
   "outputs": [
    {
     "ename": "NameError",
     "evalue": "name 'ventas_junio' is not defined",
     "output_type": "error",
     "traceback": [
      "\u001b[0;31m---------------------------------------------------------------------------\u001b[0m",
      "\u001b[0;31mNameError\u001b[0m                                 Traceback (most recent call last)",
      "\u001b[0;32m/tmp/ipython-input-3752675135.py\u001b[0m in \u001b[0;36m<cell line: 0>\u001b[0;34m()\u001b[0m\n\u001b[0;32m----> 1\u001b[0;31m \u001b[0mventas_jun_jul\u001b[0m \u001b[0;34m=\u001b[0m \u001b[0mventas_junio\u001b[0m \u001b[0;34m+\u001b[0m \u001b[0mventas_julio\u001b[0m\u001b[0;34m\u001b[0m\u001b[0;34m\u001b[0m\u001b[0m\n\u001b[0m\u001b[1;32m      2\u001b[0m \u001b[0mventas_junio\u001b[0m\u001b[0;34m=\u001b[0m\u001b[0;36m100\u001b[0m\u001b[0;34m\u001b[0m\u001b[0;34m\u001b[0m\u001b[0m\n\u001b[1;32m      3\u001b[0m \u001b[0mventas_julio\u001b[0m\u001b[0;34m=\u001b[0m\u001b[0;36m150\u001b[0m\u001b[0;34m\u001b[0m\u001b[0;34m\u001b[0m\u001b[0m\n",
      "\u001b[0;31mNameError\u001b[0m: name 'ventas_junio' is not defined"
     ]
    }
   ],
   "source": [
    "ventas_jun_jul = ventas_junio + ventas_julio\n",
    "ventas_junio=100\n",
    "ventas_julio=150"
   ]
  },
  {
   "cell_type": "code",
   "execution_count": 15,
   "metadata": {
    "colab": {
     "base_uri": "https://localhost:8080/",
     "height": 141
    },
    "executionInfo": {
     "elapsed": 31,
     "status": "error",
     "timestamp": 1759746087310,
     "user": {
      "displayName": "Susana",
      "userId": "15024392930049177599"
     },
     "user_tz": -120
    },
    "id": "bHDb4Wu0sz8R",
    "outputId": "c5abf9cb-66f8-49ba-e561-09d8f227f1ab"
   },
   "outputs": [
    {
     "ename": "NameError",
     "evalue": "name 'ventas_junio' is not defined",
     "output_type": "error",
     "traceback": [
      "\u001b[0;31m---------------------------------------------------------------------------\u001b[0m",
      "\u001b[0;31mNameError\u001b[0m                                 Traceback (most recent call last)",
      "\u001b[0;32m/tmp/ipython-input-2668372943.py\u001b[0m in \u001b[0;36m<cell line: 0>\u001b[0;34m()\u001b[0m\n\u001b[0;32m----> 1\u001b[0;31m \u001b[0mventas_junio\u001b[0m\u001b[0;34m\u001b[0m\u001b[0;34m\u001b[0m\u001b[0m\n\u001b[0m",
      "\u001b[0;31mNameError\u001b[0m: name 'ventas_junio' is not defined"
     ]
    }
   ],
   "source": [
    "ventas_junio"
   ]
  },
  {
   "cell_type": "markdown",
   "metadata": {
    "id": "AQad9bd5sz8R"
   },
   "source": [
    "**Da error**, primero tenemos que declarar las ventas, y luego sumarlas.\n"
   ]
  },
  {
   "cell_type": "code",
   "execution_count": 17,
   "metadata": {
    "executionInfo": {
     "elapsed": 8,
     "status": "ok",
     "timestamp": 1759746217254,
     "user": {
      "displayName": "Susana",
      "userId": "15024392930049177599"
     },
     "user_tz": -120
    },
    "id": "zwcFdM4SDD6d"
   },
   "outputs": [],
   "source": [
    "ventas_junio = 100\n",
    "ventas_julio = 150\n",
    "ventas_jun_jul = ventas_junio + ventas_julio"
   ]
  },
  {
   "cell_type": "code",
   "execution_count": 18,
   "metadata": {
    "colab": {
     "base_uri": "https://localhost:8080/"
    },
    "executionInfo": {
     "elapsed": 8,
     "status": "ok",
     "timestamp": 1759746249503,
     "user": {
      "displayName": "Susana",
      "userId": "15024392930049177599"
     },
     "user_tz": -120
    },
    "id": "8eK59bISsz8S",
    "outputId": "7301cc4e-a241-4d18-9f44-9338290c83c8"
   },
   "outputs": [
    {
     "name": "stdout",
     "output_type": "stream",
     "text": [
      "las ventas de junio a julio son 250\n"
     ]
    }
   ],
   "source": [
    "print(\"las ventas de junio a julio son\", ventas_jun_jul)"
   ]
  },
  {
   "cell_type": "markdown",
   "metadata": {
    "id": "RpiNY_DDsz8T"
   },
   "source": [
    "\n",
    "**¿Cuándo acaba una línea de código?**. El salto de línea lo interpreta Python como una nueva instrucción. En muchos lengujes, como Java hay que especificar el fin de la sentencia de código mediante `;`. En Python no es necesario, aunque se puede usar igualmente."
   ]
  },
  {
   "cell_type": "code",
   "execution_count": 20,
   "metadata": {
    "colab": {
     "base_uri": "https://localhost:8080/"
    },
    "executionInfo": {
     "elapsed": 19,
     "status": "ok",
     "timestamp": 1759746413475,
     "user": {
      "displayName": "Susana",
      "userId": "15024392930049177599"
     },
     "user_tz": -120
    },
    "id": "P2O6e2cfDC0q",
    "outputId": "9cb33f1f-3ebf-43b2-a861-1dbfc85632cd"
   },
   "outputs": [
    {
     "name": "stdout",
     "output_type": "stream",
     "text": [
      "1.8 75\n"
     ]
    }
   ],
   "source": [
    "altura = 1.80; peso = 75\n",
    "print(altura, peso)"
   ]
  },
  {
   "cell_type": "code",
   "execution_count": 22,
   "metadata": {
    "executionInfo": {
     "elapsed": 11,
     "status": "ok",
     "timestamp": 1759746483413,
     "user": {
      "displayName": "Susana",
      "userId": "15024392930049177599"
     },
     "user_tz": -120
    },
    "id": "gSd6uxJpDCGR"
   },
   "outputs": [],
   "source": [
    "x,y,z = 12,23,45"
   ]
  },
  {
   "cell_type": "code",
   "execution_count": 23,
   "metadata": {
    "executionInfo": {
     "elapsed": 6,
     "status": "ok",
     "timestamp": 1759746507913,
     "user": {
      "displayName": "Susana",
      "userId": "15024392930049177599"
     },
     "user_tz": -120
    },
    "id": "wfX40TtuEHQM"
   },
   "outputs": [],
   "source": [
    "x = 12\n",
    "y = 23\n",
    "z = 45"
   ]
  },
  {
   "cell_type": "markdown",
   "metadata": {
    "id": "05D06kawsz8V"
   },
   "source": [
    "## Del\n",
    "[al indice](#Contenidos)\n",
    "Es la sentencia que usaremos para borrar una variable. La verdad, no se suelen borrar variables. Vamos desarrollando los programas de Python sin preocuparnos de limpiar aquellas variables que no usamos. Normalmente no borrarlas no suele ser un problema, pero cuando manejamos un gran volumen de datos, podemos sufrir problemas de rendimiento ya que **las variables ocupan memoria**.\n",
    "\n",
    "Cuando las variables son las que hemos visto hasta ahora, no pasa nada, pero si son más pesadas, como por ejemplo datasets de imágenes que ocupan mucho, sí va a venir bien eliminar aquellas que no usemos."
   ]
  },
  {
   "cell_type": "code",
   "execution_count": 24,
   "metadata": {
    "colab": {
     "base_uri": "https://localhost:8080/",
     "height": 176
    },
    "executionInfo": {
     "elapsed": 14,
     "status": "error",
     "timestamp": 1759746946008,
     "user": {
      "displayName": "Susana",
      "userId": "15024392930049177599"
     },
     "user_tz": -120
    },
    "id": "iw3UNr4xsz8W",
    "outputId": "af71f6f8-2232-4065-8aca-0c6b70de9be1"
   },
   "outputs": [
    {
     "ename": "NameError",
     "evalue": "name 'altura' is not defined",
     "output_type": "error",
     "traceback": [
      "\u001b[0;31m---------------------------------------------------------------------------\u001b[0m",
      "\u001b[0;31mNameError\u001b[0m                                 Traceback (most recent call last)",
      "\u001b[0;32m/tmp/ipython-input-459575436.py\u001b[0m in \u001b[0;36m<cell line: 0>\u001b[0;34m()\u001b[0m\n\u001b[1;32m      1\u001b[0m \u001b[0maltura\u001b[0m \u001b[0;34m=\u001b[0m \u001b[0;36m1.85\u001b[0m\u001b[0;34m\u001b[0m\u001b[0;34m\u001b[0m\u001b[0m\n\u001b[1;32m      2\u001b[0m \u001b[0;32mdel\u001b[0m \u001b[0maltura\u001b[0m\u001b[0;34m\u001b[0m\u001b[0;34m\u001b[0m\u001b[0m\n\u001b[0;32m----> 3\u001b[0;31m \u001b[0mprint\u001b[0m\u001b[0;34m(\u001b[0m\u001b[0maltura\u001b[0m\u001b[0;34m)\u001b[0m\u001b[0;34m\u001b[0m\u001b[0;34m\u001b[0m\u001b[0m\n\u001b[0m",
      "\u001b[0;31mNameError\u001b[0m: name 'altura' is not defined"
     ]
    }
   ],
   "source": [
    "altura = 1.85\n",
    "del altura\n",
    "print(altura)"
   ]
  },
  {
   "cell_type": "code",
   "execution_count": 6,
   "metadata": {
    "executionInfo": {
     "elapsed": 14,
     "status": "ok",
     "timestamp": 1759744647527,
     "user": {
      "displayName": "Susana",
      "userId": "15024392930049177599"
     },
     "user_tz": -120
    },
    "id": "7GNp56rysz8Y"
   },
   "outputs": [],
   "source": []
  }
 ],
 "metadata": {
  "colab": {
   "provenance": [
    {
     "file_id": "1HO0OhEZSzoDzLlXeYkTckULnHIE-SPMs",
     "timestamp": 1759743473708
    }
   ]
  },
  "kernelspec": {
   "display_name": "Python 3.7.4 64-bit",
   "language": "python",
   "name": "python3"
  },
  "language_info": {
   "codemirror_mode": {
    "name": "ipython",
    "version": 3
   },
   "file_extension": ".py",
   "mimetype": "text/x-python",
   "name": "python",
   "nbconvert_exporter": "python",
   "pygments_lexer": "ipython3",
   "version": "3.11.4"
  },
  "nbTranslate": {
   "displayLangs": [
    "*"
   ],
   "hotkey": "alt-t",
   "langInMainMenu": true,
   "sourceLang": "en",
   "targetLang": "fr",
   "useGoogleTranslate": true
  },
  "varInspector": {
   "cols": {
    "lenName": 16,
    "lenType": 16,
    "lenVar": 40
   },
   "kernels_config": {
    "python": {
     "delete_cmd_postfix": "",
     "delete_cmd_prefix": "del ",
     "library": "var_list.py",
     "varRefreshCmd": "print(var_dic_list())"
    },
    "r": {
     "delete_cmd_postfix": ") ",
     "delete_cmd_prefix": "rm(",
     "library": "var_list.r",
     "varRefreshCmd": "cat(var_dic_list()) "
    }
   },
   "types_to_exclude": [
    "module",
    "function",
    "builtin_function_or_method",
    "instance",
    "_Feature"
   ],
   "window_display": false
  }
 },
 "nbformat": 4,
 "nbformat_minor": 0
}
