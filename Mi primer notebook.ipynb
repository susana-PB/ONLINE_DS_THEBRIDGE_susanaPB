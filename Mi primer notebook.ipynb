{
 "cells": [
  {
   "cell_type": "code",
   "execution_count": 157,
   "id": "13154dbb-52bd-494c-8b29-2f3fefbbc4e3",
   "metadata": {},
   "outputs": [
    {
     "name": "stdout",
     "output_type": "stream",
     "text": [
      "Hola Mundo\n"
     ]
    }
   ],
   "source": [
    "print(\"Hola Mundo\")"
   ]
  },
  {
   "cell_type": "markdown",
   "id": "ea5969fe-05d6-4c28-a33f-423143787f38",
   "metadata": {},
   "source": [
    "Hola Mundo"
   ]
  },
  {
   "cell_type": "markdown",
   "id": "fbc33e50-4e5f-4511-b5d1-21cd6fbe4409",
   "metadata": {},
   "source": [
    "## 1. Mi primera celda"
   ]
  },
  {
   "cell_type": "markdown",
   "id": "1e0b680f-0104-4f39-81a8-734d18d96776",
   "metadata": {
    "jupyter": {
     "source_hidden": true
    }
   },
   "source": [
    "# Mis primeros pasos con Markdown....\n",
    "...son muy buenos "
   ]
  },
  {
   "cell_type": "code",
   "execution_count": 158,
   "id": "d87054c1-0687-49e2-8c2d-14f00a4b03e0",
   "metadata": {},
   "outputs": [],
   "source": [
    "# Esto es código de Python."
   ]
  },
  {
   "cell_type": "markdown",
   "id": "5915c69f-1577-471b-9b57-d7d2953043cc",
   "metadata": {},
   "source": [
    "# Cabecera 1\n",
    "## Cabecera 2"
   ]
  },
  {
   "cell_type": "markdown",
   "id": "1fcc9362-6644-4653-8e1d-a6a7588aa80d",
   "metadata": {},
   "source": [
    "### Cabecera 3\n",
    "#### Cabecera 4\n",
    "##### Cabecera 5\n",
    "###### Cabecera 6\n",
    "####### Cabecera 7"
   ]
  },
  {
   "cell_type": "markdown",
   "id": "f916945d-5562-4e8e-bbf6-c6c3fca38c3c",
   "metadata": {},
   "source": [
    "<h1>Header 1</h1>\n",
    "<h2>Header 2</h2>\n",
    "<h3>Header 3</h3>"
   ]
  },
  {
   "cell_type": "markdown",
   "id": "32fdc83a-98b7-4c11-8111-9faf6340868d",
   "metadata": {},
   "source": [
    "**Texto en negrita**\n",
    "*Texto en cursiva*\n",
    "***Texto en negrita y cursiva***"
   ]
  },
  {
   "cell_type": "markdown",
   "id": "2a1483b2-4263-44db-9e30-1abd5a09b484",
   "metadata": {},
   "source": [
    ">Recuerda la importancia del conocimiento del negocio y del dominio\n",
    ">> Y utilizar atajos de techado"
   ]
  },
  {
   "cell_type": "markdown",
   "id": "9057cb5f-5d68-46e9-8a93-60df40ed6641",
   "metadata": {},
   "source": [
    "\"En un lugar de la Mancha\"  \n",
    "\"Veinte años después frente al pelotón de fusilamiento\""
   ]
  },
  {
   "cell_type": "markdown",
   "id": "7d71bc95-39b3-4967-9e0e-fb3a4e87eabd",
   "metadata": {},
   "source": [
    "1. Primer elemento\n",
    "2. Segundo elemento"
   ]
  },
  {
   "cell_type": "markdown",
   "id": "7d9fbf17-97ec-459b-8c6f-b8ad97513a8e",
   "metadata": {},
   "source": [
    "* Elemento 1\n",
    "* Elemento 2\n",
    "+ Elemento 3\n",
    "- Elemento 4"
   ]
  },
  {
   "cell_type": "markdown",
   "id": "2b0cf49c-26db-427b-84ef-19cd1ec424fa",
   "metadata": {},
   "source": [
    "```Python  \n",
    "variable=\"Esto es una variable\""
   ]
  },
  {
   "cell_type": "markdown",
   "id": "3791f292-aa0a-482c-8022-e98ba89c08ee",
   "metadata": {},
   "source": [
    "![esta en el mismo directorio](./ERROR.png) "
   ]
  },
  {
   "cell_type": "markdown",
   "id": "a1623262-2279-48bd-9888-5d2f0859750f",
   "metadata": {},
   "source": [
    "![esta imagen NO ESTA en el mismo directorio](./carpetaX/ERROR.png) "
   ]
  },
  {
   "cell_type": "markdown",
   "id": "dbbcefcf-5fd3-417c-8dea-4da6731feceb",
   "metadata": {},
   "source": [
    "<img src=”./ERROR.png” width = 500>"
   ]
  },
  {
   "attachments": {
    "52812c47-4188-4c4a-8a44-1dae5678cb89.png": {
     "image/png": "[encoded data removed]"
    }
   },
   "cell_type": "markdown",
   "id": "137992d7-b026-4981-8736-c1660aff9fe6",
   "metadata": {},
   "source": [
    "![ERROR.png](attachment:52812c47-4188-4c4a-8a44-1dae5678cb89.png)"
   ]
  },
  {
   "cell_type": "code",
   "execution_count": 159,
   "id": "f8abac5d",
   "metadata": {},
   "outputs": [],
   "source": [
    "ingresos = 1000\n",
    "gastos = 400"
   ]
  },
  {
   "cell_type": "markdown",
   "id": "e474b868",
   "metadata": {},
   "source": [
    "***Esto es una asignación***. A la pelagra ingresos, le asignamos un valor mediante `=`. Si queremos ver el valor de la variable, simplemente escribimos sun nombre en un a celda."
   ]
  },
  {
   "cell_type": "code",
   "execution_count": 160,
   "id": "d8e3593a",
   "metadata": {},
   "outputs": [
    {
     "data": {
      "text/plain": [
       "1000"
      ]
     },
     "execution_count": 160,
     "metadata": {},
     "output_type": "execute_result"
    }
   ],
   "source": [
    "ingresos"
   ]
  },
  {
   "cell_type": "code",
   "execution_count": 161,
   "id": "dc6a8849",
   "metadata": {},
   "outputs": [
    {
     "name": "stdout",
     "output_type": "stream",
     "text": [
      "1000\n",
      "400\n"
     ]
    }
   ],
   "source": [
    "print(ingresos)\n",
    "print(gastos)"
   ]
  },
  {
   "cell_type": "code",
   "execution_count": 162,
   "id": "eb544bf4",
   "metadata": {},
   "outputs": [
    {
     "data": {
      "text/plain": [
       "400"
      ]
     },
     "execution_count": 162,
     "metadata": {},
     "output_type": "execute_result"
    }
   ],
   "source": [
    "ingresos\n",
    "gastos"
   ]
  },
  {
   "cell_type": "code",
   "execution_count": null,
   "id": "57c18882",
   "metadata": {},
   "outputs": [],
   "source": []
  },
  {
   "cell_type": "code",
   "execution_count": 163,
   "id": "ab843b5a",
   "metadata": {},
   "outputs": [],
   "source": [
    "margen=ingresos-gastos"
   ]
  },
  {
   "cell_type": "code",
   "execution_count": 164,
   "id": "5d4f208d",
   "metadata": {},
   "outputs": [
    {
     "data": {
      "text/plain": [
       "600"
      ]
     },
     "execution_count": 164,
     "metadata": {},
     "output_type": "execute_result"
    }
   ],
   "source": [
    "margen"
   ]
  },
  {
   "cell_type": "code",
   "execution_count": 165,
   "id": "5ed01484",
   "metadata": {},
   "outputs": [
    {
     "name": "stdout",
     "output_type": "stream",
     "text": [
      "600\n"
     ]
    }
   ],
   "source": [
    "print(margen)"
   ]
  },
  {
   "cell_type": "code",
   "execution_count": 166,
   "id": "8e4245d2",
   "metadata": {},
   "outputs": [
    {
     "name": "stdout",
     "output_type": "stream",
     "text": [
      "Los ingresos han sido altos\n",
      "Los ingresos han sido altos\n"
     ]
    }
   ],
   "source": [
    "ingresos_text=\"Los ingresos han sido altos\"\n",
    "ingresos_alt='Los ingresos han sido altos'\n",
    "print(ingresos_text)\n",
    "print(ingresos_alt) "
   ]
  },
  {
   "cell_type": "code",
   "execution_count": 167,
   "id": "4a606a14",
   "metadata": {},
   "outputs": [],
   "source": [
    "ingresos_text=\"Los 'ingresos' han sido altos\""
   ]
  },
  {
   "cell_type": "code",
   "execution_count": 168,
   "id": "9b73a7ad",
   "metadata": {},
   "outputs": [
    {
     "data": {
      "text/plain": [
       "\"Los 'ingresos' han sido altos\""
      ]
     },
     "execution_count": 168,
     "metadata": {},
     "output_type": "execute_result"
    }
   ],
   "source": [
    "ingresos_text"
   ]
  },
  {
   "cell_type": "code",
   "execution_count": 169,
   "id": "fb9da918",
   "metadata": {},
   "outputs": [
    {
     "ename": "SyntaxError",
     "evalue": "invalid syntax (4255411489.py, line 1)",
     "output_type": "error",
     "traceback": [
      "\u001b[1;36m  Cell \u001b[1;32mIn[169], line 1\u001b[1;36m\u001b[0m\n\u001b[1;33m    ingresos_text=\"Los \"ingresos\" han sido altos\"\u001b[0m\n\u001b[1;37m                        ^\u001b[0m\n\u001b[1;31mSyntaxError\u001b[0m\u001b[1;31m:\u001b[0m invalid syntax\n"
     ]
    }
   ],
   "source": [
    "ingresos_text=\"Los \"ingresos\" han sido altos\""
   ]
  }
 ],
 "metadata": {
  "kernelspec": {
   "display_name": "Python 3",
   "language": "python",
   "name": "python3"
  },
  "language_info": {
   "codemirror_mode": {
    "name": "ipython",
    "version": 3
   },
   "file_extension": ".py",
   "mimetype": "text/x-python",
   "name": "python",
   "nbconvert_exporter": "python",
   "pygments_lexer": "ipython3",
   "version": "3.10.11"
  }
 },
 "nbformat": 4,
 "nbformat_minor": 5
}
